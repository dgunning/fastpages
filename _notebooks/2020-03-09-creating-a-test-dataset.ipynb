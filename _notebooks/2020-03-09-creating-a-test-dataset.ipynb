{
 "cells": [
  {
   "cell_type": "markdown",
   "metadata": {},
   "source": [
    "# \"Creating a Dataset for Classification\"\n",
    "> \"In this article we learn how to create datasets for machine learning classification\"\n",
    "- toc: false\n",
    "- branch: master\n",
    "- badges: true\n",
    "- comments: false\n",
    "- categories: [machinelearning]\n",
    "- metadata_key1: metadata_value1\n",
    "- metadata_key2: metadata_value2"
   ]
  },
  {
   "cell_type": "markdown",
   "metadata": {},
   "source": [
    "Machine learning algorithms are fairly easy to use if you have data that matches exactly what the algorithms are designed for. To get going with an ML project with generic data, you could generate the data in the exact shape for your ML project. For example, if you want to do classification, then you will need a target columns with the predicted classes, and you will need a dataset with the features that could predict these classes. \n",
    "\n",
    "If your machine leaning project is in Python, then the best way to start is with **scikit-learn**. This easy to use yet powerful library also has convenience functiosn to generate test data, one of which is called **make_classification**."
   ]
  },
  {
   "cell_type": "markdown",
   "metadata": {},
   "source": [
    "### make_classification\n",
    "**Scikit-learn** has a utility function to generate test data for classification called `make_classification`. With it you can generate a numpy array with *features* along with another array with *predicted classes*. This function is in the datasets package so to use it you would do\n",
    "\n",
    "`from sklearn.datasets import make_classification`\n",
    "\n",
    "`data, target = make_classification(...)`\n",
    "\n",
    "\n",
    "and you will get the data and the target with some relationship between the two sufficient to do some machine learning. Here is an example"
   ]
  },
  {
   "cell_type": "code",
   "execution_count": 5,
   "metadata": {},
   "outputs": [],
   "source": [
    "from sklearn.datasets import make_classification\n",
    "\n",
    "data, target = make_classification(n_features=12, n_samples=100)"
   ]
  },
  {
   "cell_type": "markdown",
   "metadata": {},
   "source": [
    "The data array is a numpy array of shape (**n_samples, n_features**)"
   ]
  },
  {
   "cell_type": "code",
   "execution_count": 11,
   "metadata": {},
   "outputs": [
    {
     "data": {
      "text/plain": [
       "(array([[-0.49250734, -0.56512833,  1.34644838, -0.74023749,  0.68843061,\n",
       "         -0.97001932, -1.04030453,  0.01550148, -0.43045118, -0.97009488,\n",
       "         -0.97950603,  0.29914428],\n",
       "        [ 1.61169543,  1.31613403, -0.63130511, -0.49027106,  2.80135421,\n",
       "          0.29398278,  0.0893581 ,  2.8170629 ,  0.11898778,  0.56789107,\n",
       "         -1.60475764, -2.28835375]]),\n",
       " (100, 12))"
      ]
     },
     "execution_count": 11,
     "metadata": {},
     "output_type": "execute_result"
    }
   ],
   "source": [
    "data[:2], data.shape"
   ]
  },
  {
   "cell_type": "markdown",
   "metadata": {},
   "source": [
    "The target is a numpy array of shape (**n_samples**). The values will be 0 or 1 because by default **n_classes** is 2"
   ]
  },
  {
   "cell_type": "code",
   "execution_count": 12,
   "metadata": {},
   "outputs": [
    {
     "data": {
      "text/plain": [
       "(array([1, 1, 0, 1, 1, 1, 1, 1, 1, 0, 1, 1, 0, 1, 0, 1, 1, 0, 0, 0, 1, 1,\n",
       "        1, 1, 1, 1, 0, 0, 1, 1, 0, 1, 0, 0, 0, 1, 0, 0, 0, 1, 0, 0, 1, 0,\n",
       "        1, 0, 1, 0, 0, 0, 0, 0, 1, 0, 0, 0, 1, 0, 1, 1, 0, 1, 1, 1, 0, 0,\n",
       "        1, 0, 0, 0, 0, 1, 1, 1, 1, 0, 0, 1, 1, 1, 0, 0, 0, 0, 0, 1, 1, 0,\n",
       "        1, 1, 1, 1, 1, 0, 0, 1, 0, 0, 0, 0]),\n",
       " (100,))"
      ]
     },
     "execution_count": 12,
     "metadata": {},
     "output_type": "execute_result"
    }
   ],
   "source": [
    "target, target.shape"
   ]
  },
  {
   "cell_type": "markdown",
   "metadata": {},
   "source": [
    "### Create a classification dataframe"
   ]
  },
  {
   "cell_type": "code",
   "execution_count": 1,
   "metadata": {},
   "outputs": [],
   "source": [
    "from sklearn.datasets import make_classification\n",
    "import pandas as pd\n",
    "\n",
    "def make_dataset(n_samples=1000, n_features=10, n_informative=6, n_redundant=2, n_classes=2, **kwargs):\n",
    "    data, target = make_classification(n_features=n_features,\n",
    "                                     n_informative=n_informative, \n",
    "                                     n_redundant=n_redundant, \n",
    "                                     n_samples=n_samples, \n",
    "                                     n_classes=n_classes,\n",
    "                                     **kwargs)\n",
    "    index = pd.date_range(periods=n_samples, freq=pd.tseries.offsets.BDay(), end=pd.datetime.today()).normalize()\n",
    "    columns = [f'Info{i}' for i in range(n_informative)] + \\\n",
    "              [f'Redun{i}' for i in range(n_redundant)] + \\\n",
    "              [f'Noise{i}' for i in range(n_features - (n_informative + n_redundant))]\n",
    "    df = pd.DataFrame(data, columns=columns, index=index)\n",
    "    target = pd.Series(target, index=index)\n",
    "    return df, target\n",
    "    \n",
    "data, target = make_dataset(1000, n_features=8, n_informative=4, n_classes=3)"
   ]
  },
  {
   "cell_type": "markdown",
   "metadata": {},
   "source": [
    "### The features\n",
    "The generated dataframe contains 8 columns.\n",
    "\n",
    "- **Informative features** These are informative features, meaning features that have a predictive relationship with the target\n",
    "- **Redundant features** These features are generated as linear random combinations of the informative features\n",
    "- **Noise** These are just noise, and should have no predictive power"
   ]
  },
  {
   "cell_type": "code",
   "execution_count": 2,
   "metadata": {},
   "outputs": [
    {
     "data": {
      "text/html": [
       "<div>\n",
       "<style scoped>\n",
       "    .dataframe tbody tr th:only-of-type {\n",
       "        vertical-align: middle;\n",
       "    }\n",
       "\n",
       "    .dataframe tbody tr th {\n",
       "        vertical-align: top;\n",
       "    }\n",
       "\n",
       "    .dataframe thead th {\n",
       "        text-align: right;\n",
       "    }\n",
       "</style>\n",
       "<table border=\"1\" class=\"dataframe\">\n",
       "  <thead>\n",
       "    <tr style=\"text-align: right;\">\n",
       "      <th></th>\n",
       "      <th>Info0</th>\n",
       "      <th>Info1</th>\n",
       "      <th>Info2</th>\n",
       "      <th>Info3</th>\n",
       "      <th>Redun0</th>\n",
       "      <th>Redun1</th>\n",
       "      <th>Noise0</th>\n",
       "      <th>Noise1</th>\n",
       "    </tr>\n",
       "  </thead>\n",
       "  <tbody>\n",
       "    <tr>\n",
       "      <th>2016-05-10</th>\n",
       "      <td>-0.944</td>\n",
       "      <td>-1.358</td>\n",
       "      <td>-1.274</td>\n",
       "      <td>0.465</td>\n",
       "      <td>1.308</td>\n",
       "      <td>0.414</td>\n",
       "      <td>0.398</td>\n",
       "      <td>-0.483</td>\n",
       "    </tr>\n",
       "    <tr>\n",
       "      <th>2016-05-11</th>\n",
       "      <td>1.263</td>\n",
       "      <td>1.536</td>\n",
       "      <td>-0.006</td>\n",
       "      <td>-0.588</td>\n",
       "      <td>1.532</td>\n",
       "      <td>0.720</td>\n",
       "      <td>0.019</td>\n",
       "      <td>0.790</td>\n",
       "    </tr>\n",
       "    <tr>\n",
       "      <th>2016-05-12</th>\n",
       "      <td>0.755</td>\n",
       "      <td>0.700</td>\n",
       "      <td>-1.725</td>\n",
       "      <td>0.281</td>\n",
       "      <td>-1.483</td>\n",
       "      <td>-1.000</td>\n",
       "      <td>-0.296</td>\n",
       "      <td>0.450</td>\n",
       "    </tr>\n",
       "    <tr>\n",
       "      <th>2016-05-13</th>\n",
       "      <td>0.589</td>\n",
       "      <td>1.267</td>\n",
       "      <td>0.410</td>\n",
       "      <td>-1.858</td>\n",
       "      <td>-1.337</td>\n",
       "      <td>0.468</td>\n",
       "      <td>0.317</td>\n",
       "      <td>0.201</td>\n",
       "    </tr>\n",
       "    <tr>\n",
       "      <th>2016-05-16</th>\n",
       "      <td>0.489</td>\n",
       "      <td>-1.645</td>\n",
       "      <td>-0.387</td>\n",
       "      <td>0.396</td>\n",
       "      <td>-1.312</td>\n",
       "      <td>-1.753</td>\n",
       "      <td>0.086</td>\n",
       "      <td>0.678</td>\n",
       "    </tr>\n",
       "    <tr>\n",
       "      <th>...</th>\n",
       "      <td>...</td>\n",
       "      <td>...</td>\n",
       "      <td>...</td>\n",
       "      <td>...</td>\n",
       "      <td>...</td>\n",
       "      <td>...</td>\n",
       "      <td>...</td>\n",
       "      <td>...</td>\n",
       "    </tr>\n",
       "    <tr>\n",
       "      <th>2020-03-03</th>\n",
       "      <td>-1.128</td>\n",
       "      <td>-1.246</td>\n",
       "      <td>0.636</td>\n",
       "      <td>1.509</td>\n",
       "      <td>0.784</td>\n",
       "      <td>-0.160</td>\n",
       "      <td>0.776</td>\n",
       "      <td>-0.665</td>\n",
       "    </tr>\n",
       "    <tr>\n",
       "      <th>2020-03-04</th>\n",
       "      <td>1.748</td>\n",
       "      <td>-0.734</td>\n",
       "      <td>0.256</td>\n",
       "      <td>1.331</td>\n",
       "      <td>0.093</td>\n",
       "      <td>-2.095</td>\n",
       "      <td>2.344</td>\n",
       "      <td>1.587</td>\n",
       "    </tr>\n",
       "    <tr>\n",
       "      <th>2020-03-05</th>\n",
       "      <td>-2.043</td>\n",
       "      <td>-1.482</td>\n",
       "      <td>-0.079</td>\n",
       "      <td>-2.589</td>\n",
       "      <td>0.356</td>\n",
       "      <td>2.215</td>\n",
       "      <td>-1.444</td>\n",
       "      <td>-1.404</td>\n",
       "    </tr>\n",
       "    <tr>\n",
       "      <th>2020-03-06</th>\n",
       "      <td>-1.213</td>\n",
       "      <td>0.298</td>\n",
       "      <td>-0.405</td>\n",
       "      <td>0.920</td>\n",
       "      <td>-0.055</td>\n",
       "      <td>0.456</td>\n",
       "      <td>-2.922</td>\n",
       "      <td>-1.053</td>\n",
       "    </tr>\n",
       "    <tr>\n",
       "      <th>2020-03-09</th>\n",
       "      <td>-0.555</td>\n",
       "      <td>2.732</td>\n",
       "      <td>0.549</td>\n",
       "      <td>0.180</td>\n",
       "      <td>1.963</td>\n",
       "      <td>2.230</td>\n",
       "      <td>-1.877</td>\n",
       "      <td>-0.918</td>\n",
       "    </tr>\n",
       "  </tbody>\n",
       "</table>\n",
       "<p>1000 rows × 8 columns</p>\n",
       "</div>"
      ],
      "text/plain": [
       "            Info0  Info1  Info2  Info3  Redun0  Redun1  Noise0  Noise1\n",
       "2016-05-10 -0.944 -1.358 -1.274  0.465   1.308   0.414   0.398  -0.483\n",
       "2016-05-11  1.263  1.536 -0.006 -0.588   1.532   0.720   0.019   0.790\n",
       "2016-05-12  0.755  0.700 -1.725  0.281  -1.483  -1.000  -0.296   0.450\n",
       "2016-05-13  0.589  1.267  0.410 -1.858  -1.337   0.468   0.317   0.201\n",
       "2016-05-16  0.489 -1.645 -0.387  0.396  -1.312  -1.753   0.086   0.678\n",
       "...           ...    ...    ...    ...     ...     ...     ...     ...\n",
       "2020-03-03 -1.128 -1.246  0.636  1.509   0.784  -0.160   0.776  -0.665\n",
       "2020-03-04  1.748 -0.734  0.256  1.331   0.093  -2.095   2.344   1.587\n",
       "2020-03-05 -2.043 -1.482 -0.079 -2.589   0.356   2.215  -1.444  -1.404\n",
       "2020-03-06 -1.213  0.298 -0.405  0.920  -0.055   0.456  -2.922  -1.053\n",
       "2020-03-09 -0.555  2.732  0.549  0.180   1.963   2.230  -1.877  -0.918\n",
       "\n",
       "[1000 rows x 8 columns]"
      ]
     },
     "execution_count": 2,
     "metadata": {},
     "output_type": "execute_result"
    }
   ],
   "source": [
    "data"
   ]
  },
  {
   "cell_type": "markdown",
   "metadata": {},
   "source": [
    "### The target\n",
    "The target variable contains the values 0,1,2 - three classes since we specified three classes in the **make_dataset** function call. These are roughly evenly distributed, though wecould have specified a different distribution of values."
   ]
  },
  {
   "cell_type": "code",
   "execution_count": 4,
   "metadata": {},
   "outputs": [
    {
     "data": {
      "text/html": [
       "<div>\n",
       "<style scoped>\n",
       "    .dataframe tbody tr th:only-of-type {\n",
       "        vertical-align: middle;\n",
       "    }\n",
       "\n",
       "    .dataframe tbody tr th {\n",
       "        vertical-align: top;\n",
       "    }\n",
       "\n",
       "    .dataframe thead th {\n",
       "        text-align: right;\n",
       "    }\n",
       "</style>\n",
       "<table border=\"1\" class=\"dataframe\">\n",
       "  <thead>\n",
       "    <tr style=\"text-align: right;\">\n",
       "      <th></th>\n",
       "      <th>Target</th>\n",
       "    </tr>\n",
       "  </thead>\n",
       "  <tbody>\n",
       "    <tr>\n",
       "      <th>0</th>\n",
       "      <td>334</td>\n",
       "    </tr>\n",
       "    <tr>\n",
       "      <th>1</th>\n",
       "      <td>333</td>\n",
       "    </tr>\n",
       "    <tr>\n",
       "      <th>2</th>\n",
       "      <td>333</td>\n",
       "    </tr>\n",
       "  </tbody>\n",
       "</table>\n",
       "</div>"
      ],
      "text/plain": [
       "   Target\n",
       "0     334\n",
       "1     333\n",
       "2     333"
      ]
     },
     "execution_count": 4,
     "metadata": {},
     "output_type": "execute_result"
    }
   ],
   "source": [
    "pd.DataFrame(target, columns=['Target']).Target.value_counts().to_frame().sort_index()"
   ]
  }
 ],
 "metadata": {
  "kernelspec": {
   "display_name": "fastpages",
   "language": "python",
   "name": "fastpages"
  },
  "language_info": {
   "codemirror_mode": {
    "name": "ipython",
    "version": 3
   },
   "file_extension": ".py",
   "mimetype": "text/x-python",
   "name": "python",
   "nbconvert_exporter": "python",
   "pygments_lexer": "ipython3",
   "version": "3.8.2"
  }
 },
 "nbformat": 4,
 "nbformat_minor": 4
}
