{
 "cells": [
  {
   "cell_type": "markdown",
   "metadata": {},
   "source": [
    "# Tracking the progress of the COVID-19 Pandemic\n",
    "> \"In this article we show how to track the spread of the CIV-19 virus\"\n",
    "- toc: false\n",
    "- branch: master\n",
    "- badges: true\n",
    "- comments: false\n",
    "- categories: [charts,visualization,data]"
   ]
  },
  {
   "cell_type": "markdown",
   "metadata": {},
   "source": [
    "As the COVID-19 viral pandemic gathers steam, it is important that we keep up to date with the latest information from reputable and trusted sources. This helps us to make the best decisions in order to remain safe, mitigate the effects, and eventually return the society to normal. One way way that data scientists and data analysts can help is in performing data analysis using the best available data sources. This article performs data analysis using some important sources of COVID 19 data."
   ]
  },
  {
   "cell_type": "markdown",
   "metadata": {},
   "source": [
    "![](../images/coronavirus.jfif)"
   ]
  },
  {
   "cell_type": "markdown",
   "metadata": {},
   "source": [
    "## Data from Johns Hopkins Center for System Science and Engineering\n",
    "One of the most popular sources for information on COVID 19 is the **Center for Systems Science and Engineering** at **Johns Hopkins University**. They maintain an interactive dashboard with very up to date statistics on the global spread. Data is normally about less than a day old and pretty comprehensive across the countries, with data resolution down to the province/state/region level for some of the major countries. The CSSE also maintains a github repository where the data is located in CSV files. These CSV files can be downloaded and used in data projects, either directly of by cloning the github repository.\n",
    "\n",
    "## Kaggle COVID Data Analysis\n",
    "The [Novel Corona Virus Dataset](https://www.kaggle.com/sudalairajkumar/novel-corona-virus-2019-dataset) is a dataset hosted on Kaggle. It is made available to data scientists to spur understanding of the pandemic and in particular to help in predicting the path that the epidemic will take. It is derived from the CSSE data, but is a day or two behind."
   ]
  },
  {
   "cell_type": "markdown",
   "metadata": {},
   "source": [
    "## Other sources for COVID-19 \n",
    "\n",
    "### Canada Public Health\n",
    "The official Canadian government website for COVID-19 updates is located [here](https://www.canada.ca/en/public-health/services/diseases/coronavirus-disease-covid-19.html)\n",
    "\n",
    "### Ontario\n",
    "https://www.ontario.ca/page/2019-novel-coronavirus"
   ]
  },
  {
   "cell_type": "markdown",
   "metadata": {},
   "source": [
    "## Install Libraries\n",
    "We will use the following libraries and will need to install them using pip."
   ]
  },
  {
   "cell_type": "code",
   "execution_count": 1,
   "metadata": {},
   "outputs": [],
   "source": [
    "#! pip install altair pendulum folium"
   ]
  },
  {
   "cell_type": "code",
   "execution_count": 2,
   "metadata": {},
   "outputs": [],
   "source": [
    "import pandas as pd\n",
    "import altair as alt\n",
    "import pendulum\n",
    "from ipywidgets import HTML\n",
    "pd.options.display.max_rows = 80"
   ]
  },
  {
   "cell_type": "markdown",
   "metadata": {},
   "source": [
    "### Download the data\n",
    "We will download the data directly from the CSSE github repository"
   ]
  },
  {
   "cell_type": "code",
   "execution_count": 3,
   "metadata": {},
   "outputs": [],
   "source": [
    "CSSE_URL = 'https://raw.githubusercontent.com/CSSEGISandData/COVID-19/master/csse_covid_19_data/csse_covid_19_time_series/'\n",
    "CONFIRMED_URL = f'{CSSE_URL}/time_series_19-covid-Confirmed.csv'\n",
    "DEATHS_URL = f'{CSSE_URL}/time_series_19-covid-Deaths.csv'\n",
    "RECOVERED_URL = f'{CSSE_URL}/time_series_19-covid-Recovered.csv'\n",
    "\n",
    "confirmed_wide = pd.read_csv(CONFIRMED_URL)\n",
    "deaths_wide = pd.read_csv(DEATHS_URL)\n",
    "recovered_wide = pd.read_csv(RECOVERED_URL)"
   ]
  },
  {
   "cell_type": "markdown",
   "metadata": {},
   "source": [
    " ## When was the data last updated\n",
    " The raw data is in wide format and data for the latest days is appended to new columns on the right. We can use this to show when the data was last updated."
   ]
  },
  {
   "cell_type": "code",
   "execution_count": 4,
   "metadata": {},
   "outputs": [
    {
     "data": {
      "text/html": [
       "<div>\n",
       "<style scoped>\n",
       "    .dataframe tbody tr th:only-of-type {\n",
       "        vertical-align: middle;\n",
       "    }\n",
       "\n",
       "    .dataframe tbody tr th {\n",
       "        vertical-align: top;\n",
       "    }\n",
       "\n",
       "    .dataframe thead th {\n",
       "        text-align: right;\n",
       "    }\n",
       "</style>\n",
       "<table border=\"1\" class=\"dataframe\">\n",
       "  <thead>\n",
       "    <tr style=\"text-align: right;\">\n",
       "      <th></th>\n",
       "      <th>Date Updated</th>\n",
       "      <th>When</th>\n",
       "    </tr>\n",
       "  </thead>\n",
       "  <tbody>\n",
       "    <tr>\n",
       "      <th></th>\n",
       "      <td>Mon, Mar 16, 2020 12:00 AM</td>\n",
       "      <td>1 day ago</td>\n",
       "    </tr>\n",
       "  </tbody>\n",
       "</table>\n",
       "</div>"
      ],
      "text/plain": [
       "                Date Updated       When\n",
       "  Mon, Mar 16, 2020 12:00 AM  1 day ago"
      ]
     },
     "execution_count": 4,
     "metadata": {},
     "output_type": "execute_result"
    }
   ],
   "source": [
    "latest_date = pendulum.instance( pd.to_datetime(confirmed_wide.columns[-1]))\n",
    "pd.DataFrame({'Date Updated': [latest_date.to_day_datetime_string()], \n",
    "              'When': [latest_date.diff_for_humans()]}, \n",
    "             index=[''])"
   ]
  },
  {
   "cell_type": "markdown",
   "metadata": {},
   "source": [
    "## Data Processing"
   ]
  },
  {
   "cell_type": "code",
   "execution_count": 5,
   "metadata": {},
   "outputs": [
    {
     "data": {
      "text/html": [
       "<div>\n",
       "<style scoped>\n",
       "    .dataframe tbody tr th:only-of-type {\n",
       "        vertical-align: middle;\n",
       "    }\n",
       "\n",
       "    .dataframe tbody tr th {\n",
       "        vertical-align: top;\n",
       "    }\n",
       "\n",
       "    .dataframe thead th {\n",
       "        text-align: right;\n",
       "    }\n",
       "</style>\n",
       "<table border=\"1\" class=\"dataframe\">\n",
       "  <thead>\n",
       "    <tr style=\"text-align: right;\">\n",
       "      <th></th>\n",
       "      <th>Province</th>\n",
       "      <th>Country</th>\n",
       "      <th>Lat</th>\n",
       "      <th>Long</th>\n",
       "      <th>Confirmed</th>\n",
       "      <th>Deaths</th>\n",
       "      <th>Recovered</th>\n",
       "      <th>Active</th>\n",
       "    </tr>\n",
       "    <tr>\n",
       "      <th>Date</th>\n",
       "      <th></th>\n",
       "      <th></th>\n",
       "      <th></th>\n",
       "      <th></th>\n",
       "      <th></th>\n",
       "      <th></th>\n",
       "      <th></th>\n",
       "      <th></th>\n",
       "    </tr>\n",
       "  </thead>\n",
       "  <tbody>\n",
       "    <tr>\n",
       "      <th>2020-03-16</th>\n",
       "      <td>NaN</td>\n",
       "      <td>Somalia</td>\n",
       "      <td>5.1521</td>\n",
       "      <td>46.1996</td>\n",
       "      <td>1</td>\n",
       "      <td>0</td>\n",
       "      <td>0</td>\n",
       "      <td>1</td>\n",
       "    </tr>\n",
       "    <tr>\n",
       "      <th>2020-03-16</th>\n",
       "      <td>NaN</td>\n",
       "      <td>Tanzania</td>\n",
       "      <td>-6.3690</td>\n",
       "      <td>34.8888</td>\n",
       "      <td>1</td>\n",
       "      <td>0</td>\n",
       "      <td>0</td>\n",
       "      <td>1</td>\n",
       "    </tr>\n",
       "    <tr>\n",
       "      <th>2020-03-16</th>\n",
       "      <td>NaN</td>\n",
       "      <td>The Bahamas</td>\n",
       "      <td>24.2500</td>\n",
       "      <td>-76.0000</td>\n",
       "      <td>1</td>\n",
       "      <td>0</td>\n",
       "      <td>0</td>\n",
       "      <td>1</td>\n",
       "    </tr>\n",
       "    <tr>\n",
       "      <th>2020-03-16</th>\n",
       "      <td>Virgin Islands</td>\n",
       "      <td>US</td>\n",
       "      <td>18.3358</td>\n",
       "      <td>-64.8963</td>\n",
       "      <td>1</td>\n",
       "      <td>0</td>\n",
       "      <td>0</td>\n",
       "      <td>1</td>\n",
       "    </tr>\n",
       "    <tr>\n",
       "      <th>2020-03-16</th>\n",
       "      <td>Cayman Islands</td>\n",
       "      <td>United Kingdom</td>\n",
       "      <td>19.3133</td>\n",
       "      <td>-81.2546</td>\n",
       "      <td>1</td>\n",
       "      <td>1</td>\n",
       "      <td>0</td>\n",
       "      <td>0</td>\n",
       "    </tr>\n",
       "  </tbody>\n",
       "</table>\n",
       "</div>"
      ],
      "text/plain": [
       "                  Province         Country      Lat     Long  Confirmed  \\\n",
       "Date                                                                      \n",
       "2020-03-16             NaN         Somalia   5.1521  46.1996          1   \n",
       "2020-03-16             NaN        Tanzania  -6.3690  34.8888          1   \n",
       "2020-03-16             NaN     The Bahamas  24.2500 -76.0000          1   \n",
       "2020-03-16  Virgin Islands              US  18.3358 -64.8963          1   \n",
       "2020-03-16  Cayman Islands  United Kingdom  19.3133 -81.2546          1   \n",
       "\n",
       "            Deaths  Recovered  Active  \n",
       "Date                                   \n",
       "2020-03-16       0          0       1  \n",
       "2020-03-16       0          0       1  \n",
       "2020-03-16       0          0       1  \n",
       "2020-03-16       0          0       1  \n",
       "2020-03-16       1          0       0  "
      ]
     },
     "execution_count": 5,
     "metadata": {},
     "output_type": "execute_result"
    }
   ],
   "source": [
    "dates = confirmed_wide.columns[4:]\n",
    "ID_VARS = ['Province/State', 'Country/Region', 'Lat', 'Long']\n",
    "CASE_COLS = ['Confirmed', 'Active', 'Deaths', 'Recovered']\n",
    "\n",
    "# Convert from the wide format to long format\n",
    "confirmed_long = confirmed_wide.melt(id_vars=ID_VARS, value_vars=dates, var_name='Date', value_name='Confirmed')\n",
    "deaths_long = deaths_wide.melt(id_vars=ID_VARS, value_vars=dates, var_name='Date', value_name='Deaths')\n",
    "recovered_long = recovered_wide.melt(id_vars=ID_VARS, value_vars=dates, var_name='Date', value_name='Recovered')\n",
    "covid_full = pd.concat([confirmed_long, deaths_long['Deaths'], recovered_long['Recovered']], axis=1, sort=False)\n",
    "\n",
    "covid_full.Date = pd.to_datetime(covid_full.Date).dt.normalize()\n",
    "covid_full = covid_full[['Date', 'Province/State','Country/Region','Lat','Long','Confirmed','Deaths','Recovered']]\n",
    "covid_full = covid_full.rename(columns={'Province/State': 'Province', 'Country/Region': 'Country'})\n",
    "covid_full.Country = covid_full.Country.replace('Mainland/China', 'China').replace('Korea, South', 'South Korea')\n",
    "covid_full = covid_full.set_index('Date')\n",
    "\n",
    "# Add an Active columns\n",
    "covid_full['Active'] = covid_full['Confirmed'] - covid_full['Deaths'] - covid_full['Recovered']\n",
    "\n",
    "# remove values with , in the Country to avoid double counting\n",
    "covid_full = covid_full[covid_full.Province.str.contains(',') != True]\n",
    "\n",
    "covid_full.tail()"
   ]
  },
  {
   "cell_type": "markdown",
   "metadata": {},
   "source": [
    "## Latest Data"
   ]
  },
  {
   "cell_type": "code",
   "execution_count": 6,
   "metadata": {},
   "outputs": [],
   "source": [
    "latest_date = covid_full.index.max()\n",
    "latest_data = covid_full.loc[latest_date]"
   ]
  },
  {
   "cell_type": "code",
   "execution_count": 7,
   "metadata": {},
   "outputs": [
    {
     "data": {
      "text/html": [
       "<div>\n",
       "<style scoped>\n",
       "    .dataframe tbody tr th:only-of-type {\n",
       "        vertical-align: middle;\n",
       "    }\n",
       "\n",
       "    .dataframe tbody tr th {\n",
       "        vertical-align: top;\n",
       "    }\n",
       "\n",
       "    .dataframe thead th {\n",
       "        text-align: right;\n",
       "    }\n",
       "</style>\n",
       "<table border=\"1\" class=\"dataframe\">\n",
       "  <thead>\n",
       "    <tr style=\"text-align: right;\">\n",
       "      <th></th>\n",
       "      <th>Confirmed</th>\n",
       "      <th>Active</th>\n",
       "      <th>Deaths</th>\n",
       "      <th>Recovered</th>\n",
       "    </tr>\n",
       "  </thead>\n",
       "  <tbody>\n",
       "    <tr>\n",
       "      <th>0</th>\n",
       "      <td>181546</td>\n",
       "      <td>96332</td>\n",
       "      <td>7126</td>\n",
       "      <td>78088</td>\n",
       "    </tr>\n",
       "  </tbody>\n",
       "</table>\n",
       "</div>"
      ],
      "text/plain": [
       "   Confirmed  Active  Deaths  Recovered\n",
       "0     181546   96332    7126      78088"
      ]
     },
     "execution_count": 7,
     "metadata": {},
     "output_type": "execute_result"
    }
   ],
   "source": [
    "covid_full.loc[latest_date][CASE_COLS].sum().to_frame().T"
   ]
  },
  {
   "cell_type": "markdown",
   "metadata": {},
   "source": [
    "### Latest By Country"
   ]
  },
  {
   "cell_type": "code",
   "execution_count": 8,
   "metadata": {},
   "outputs": [
    {
     "data": {
      "text/html": [
       "<div>\n",
       "<style scoped>\n",
       "    .dataframe tbody tr th:only-of-type {\n",
       "        vertical-align: middle;\n",
       "    }\n",
       "\n",
       "    .dataframe tbody tr th {\n",
       "        vertical-align: top;\n",
       "    }\n",
       "\n",
       "    .dataframe thead th {\n",
       "        text-align: right;\n",
       "    }\n",
       "</style>\n",
       "<table border=\"1\" class=\"dataframe\">\n",
       "  <thead>\n",
       "    <tr style=\"text-align: right;\">\n",
       "      <th></th>\n",
       "      <th>Confirmed</th>\n",
       "      <th>Active</th>\n",
       "      <th>Deaths</th>\n",
       "      <th>Recovered</th>\n",
       "    </tr>\n",
       "    <tr>\n",
       "      <th>Country</th>\n",
       "      <th></th>\n",
       "      <th></th>\n",
       "      <th></th>\n",
       "      <th></th>\n",
       "    </tr>\n",
       "  </thead>\n",
       "  <tbody>\n",
       "    <tr>\n",
       "      <th>China</th>\n",
       "      <td>81033</td>\n",
       "      <td>9906</td>\n",
       "      <td>3217</td>\n",
       "      <td>67910</td>\n",
       "    </tr>\n",
       "    <tr>\n",
       "      <th>Italy</th>\n",
       "      <td>27980</td>\n",
       "      <td>23073</td>\n",
       "      <td>2158</td>\n",
       "      <td>2749</td>\n",
       "    </tr>\n",
       "    <tr>\n",
       "      <th>Iran</th>\n",
       "      <td>14991</td>\n",
       "      <td>9548</td>\n",
       "      <td>853</td>\n",
       "      <td>4590</td>\n",
       "    </tr>\n",
       "    <tr>\n",
       "      <th>Spain</th>\n",
       "      <td>9942</td>\n",
       "      <td>9070</td>\n",
       "      <td>342</td>\n",
       "      <td>530</td>\n",
       "    </tr>\n",
       "    <tr>\n",
       "      <th>South Korea</th>\n",
       "      <td>8236</td>\n",
       "      <td>7024</td>\n",
       "      <td>75</td>\n",
       "      <td>1137</td>\n",
       "    </tr>\n",
       "    <tr>\n",
       "      <th>...</th>\n",
       "      <td>...</td>\n",
       "      <td>...</td>\n",
       "      <td>...</td>\n",
       "      <td>...</td>\n",
       "    </tr>\n",
       "    <tr>\n",
       "      <th>The Bahamas</th>\n",
       "      <td>1</td>\n",
       "      <td>1</td>\n",
       "      <td>0</td>\n",
       "      <td>0</td>\n",
       "    </tr>\n",
       "    <tr>\n",
       "      <th>Togo</th>\n",
       "      <td>1</td>\n",
       "      <td>1</td>\n",
       "      <td>0</td>\n",
       "      <td>0</td>\n",
       "    </tr>\n",
       "    <tr>\n",
       "      <th>Nepal</th>\n",
       "      <td>1</td>\n",
       "      <td>0</td>\n",
       "      <td>0</td>\n",
       "      <td>1</td>\n",
       "    </tr>\n",
       "    <tr>\n",
       "      <th>Sudan</th>\n",
       "      <td>1</td>\n",
       "      <td>0</td>\n",
       "      <td>1</td>\n",
       "      <td>0</td>\n",
       "    </tr>\n",
       "    <tr>\n",
       "      <th>occupied Palestinian territory</th>\n",
       "      <td>0</td>\n",
       "      <td>0</td>\n",
       "      <td>0</td>\n",
       "      <td>0</td>\n",
       "    </tr>\n",
       "  </tbody>\n",
       "</table>\n",
       "<p>156 rows × 4 columns</p>\n",
       "</div>"
      ],
      "text/plain": [
       "                                Confirmed  Active  Deaths  Recovered\n",
       "Country                                                             \n",
       "China                               81033    9906    3217      67910\n",
       "Italy                               27980   23073    2158       2749\n",
       "Iran                                14991    9548     853       4590\n",
       "Spain                                9942    9070     342        530\n",
       "South Korea                          8236    7024      75       1137\n",
       "...                                   ...     ...     ...        ...\n",
       "The Bahamas                             1       1       0          0\n",
       "Togo                                    1       1       0          0\n",
       "Nepal                                   1       0       0          1\n",
       "Sudan                                   1       0       1          0\n",
       "occupied Palestinian territory          0       0       0          0\n",
       "\n",
       "[156 rows x 4 columns]"
      ]
     },
     "execution_count": 8,
     "metadata": {},
     "output_type": "execute_result"
    }
   ],
   "source": [
    "covid_full.loc[latest_date].groupby('Country')[CASE_COLS]\\\n",
    "        .sum().sort_values(['Confirmed', 'Active'], ascending=[False, False])"
   ]
  },
  {
   "cell_type": "markdown",
   "metadata": {},
   "source": [
    "### Canada Wide"
   ]
  },
  {
   "cell_type": "code",
   "execution_count": 9,
   "metadata": {},
   "outputs": [],
   "source": [
    "def country_data(country):\n",
    "    return  covid_full[covid_full.Country == country].loc[latest_date].groupby('Province')[CASE_COLS] \\\n",
    "            .sum().sort_values(['Confirmed', 'Active'], ascending=[False, False])"
   ]
  },
  {
   "cell_type": "code",
   "execution_count": 10,
   "metadata": {},
   "outputs": [
    {
     "data": {
      "text/html": [
       "<div>\n",
       "<style scoped>\n",
       "    .dataframe tbody tr th:only-of-type {\n",
       "        vertical-align: middle;\n",
       "    }\n",
       "\n",
       "    .dataframe tbody tr th {\n",
       "        vertical-align: top;\n",
       "    }\n",
       "\n",
       "    .dataframe thead th {\n",
       "        text-align: right;\n",
       "    }\n",
       "</style>\n",
       "<table border=\"1\" class=\"dataframe\">\n",
       "  <thead>\n",
       "    <tr style=\"text-align: right;\">\n",
       "      <th></th>\n",
       "      <th>Confirmed</th>\n",
       "      <th>Active</th>\n",
       "      <th>Deaths</th>\n",
       "      <th>Recovered</th>\n",
       "    </tr>\n",
       "    <tr>\n",
       "      <th>Province</th>\n",
       "      <th></th>\n",
       "      <th></th>\n",
       "      <th></th>\n",
       "      <th></th>\n",
       "    </tr>\n",
       "  </thead>\n",
       "  <tbody>\n",
       "    <tr>\n",
       "      <th>Ontario</th>\n",
       "      <td>177</td>\n",
       "      <td>172</td>\n",
       "      <td>0</td>\n",
       "      <td>5</td>\n",
       "    </tr>\n",
       "    <tr>\n",
       "      <th>British Columbia</th>\n",
       "      <td>103</td>\n",
       "      <td>95</td>\n",
       "      <td>4</td>\n",
       "      <td>4</td>\n",
       "    </tr>\n",
       "    <tr>\n",
       "      <th>Alberta</th>\n",
       "      <td>56</td>\n",
       "      <td>56</td>\n",
       "      <td>0</td>\n",
       "      <td>0</td>\n",
       "    </tr>\n",
       "    <tr>\n",
       "      <th>Quebec</th>\n",
       "      <td>50</td>\n",
       "      <td>50</td>\n",
       "      <td>0</td>\n",
       "      <td>0</td>\n",
       "    </tr>\n",
       "    <tr>\n",
       "      <th>Manitoba</th>\n",
       "      <td>7</td>\n",
       "      <td>7</td>\n",
       "      <td>0</td>\n",
       "      <td>0</td>\n",
       "    </tr>\n",
       "    <tr>\n",
       "      <th>Saskatchewan</th>\n",
       "      <td>7</td>\n",
       "      <td>7</td>\n",
       "      <td>0</td>\n",
       "      <td>0</td>\n",
       "    </tr>\n",
       "    <tr>\n",
       "      <th>New Brunswick</th>\n",
       "      <td>6</td>\n",
       "      <td>6</td>\n",
       "      <td>0</td>\n",
       "      <td>0</td>\n",
       "    </tr>\n",
       "    <tr>\n",
       "      <th>Nova Scotia</th>\n",
       "      <td>5</td>\n",
       "      <td>5</td>\n",
       "      <td>0</td>\n",
       "      <td>0</td>\n",
       "    </tr>\n",
       "    <tr>\n",
       "      <th>Grand Princess</th>\n",
       "      <td>2</td>\n",
       "      <td>2</td>\n",
       "      <td>0</td>\n",
       "      <td>0</td>\n",
       "    </tr>\n",
       "    <tr>\n",
       "      <th>Newfoundland and Labrador</th>\n",
       "      <td>1</td>\n",
       "      <td>1</td>\n",
       "      <td>0</td>\n",
       "      <td>0</td>\n",
       "    </tr>\n",
       "    <tr>\n",
       "      <th>Prince Edward Island</th>\n",
       "      <td>1</td>\n",
       "      <td>1</td>\n",
       "      <td>0</td>\n",
       "      <td>0</td>\n",
       "    </tr>\n",
       "  </tbody>\n",
       "</table>\n",
       "</div>"
      ],
      "text/plain": [
       "                           Confirmed  Active  Deaths  Recovered\n",
       "Province                                                       \n",
       "Ontario                          177     172       0          5\n",
       "British Columbia                 103      95       4          4\n",
       "Alberta                           56      56       0          0\n",
       "Quebec                            50      50       0          0\n",
       "Manitoba                           7       7       0          0\n",
       "Saskatchewan                       7       7       0          0\n",
       "New Brunswick                      6       6       0          0\n",
       "Nova Scotia                        5       5       0          0\n",
       "Grand Princess                     2       2       0          0\n",
       "Newfoundland and Labrador          1       1       0          0\n",
       "Prince Edward Island               1       1       0          0"
      ]
     },
     "execution_count": 10,
     "metadata": {},
     "output_type": "execute_result"
    }
   ],
   "source": [
    "canada_data = country_data('Canada')\n",
    "canada_data"
   ]
  },
  {
   "cell_type": "markdown",
   "metadata": {},
   "source": [
    "## USA"
   ]
  },
  {
   "cell_type": "code",
   "execution_count": 11,
   "metadata": {},
   "outputs": [],
   "source": [
    "country_data('US');"
   ]
  },
  {
   "cell_type": "markdown",
   "metadata": {},
   "source": [
    "## World Map"
   ]
  },
  {
   "cell_type": "code",
   "execution_count": 12,
   "metadata": {},
   "outputs": [],
   "source": [
    "import folium\n",
    "m = folium.Map(location=[0, 0], tiles='cartodbpositron', min_zoom=1, max_zoom=4, zoom_start=1)\n",
    "\n",
    "for i in range(0, len(latest_data)):\n",
    "    folium.Circle(\n",
    "        location=[latest_data.iloc[i]['Lat'], latest_data.iloc[i]['Long']],\n",
    "        color='crimson', \n",
    "        tooltip =   '<li><bold>Country : '+str(latest_data.iloc[i]['Country'])+\n",
    "                    '<li><bold>Province : '+str(latest_data.iloc[i]['Province'])+\n",
    "                    '<li><bold>Confirmed : '+str(latest_data.iloc[i]['Confirmed'])+\n",
    "                    '<li><bold>Deaths : '+str(latest_data.iloc[i]['Deaths'])+\n",
    "                    '<li><bold>Recovered : '+str(latest_data.iloc[i]['Recovered']),\n",
    "        radius=int(latest_data.iloc[i]['Confirmed'])**1.2).add_to(m)\n"
   ]
  },
  {
   "cell_type": "markdown",
   "metadata": {},
   "source": [
    "![](../images/worldmap.png)"
   ]
  },
  {
   "cell_type": "markdown",
   "metadata": {},
   "source": [
    "## Case Data over Time\n",
    "\n",
    "We will use Altair to produce charts of the case data over time. Since we want to show by country, we will create a function in which we can pass the country as a parameter."
   ]
  },
  {
   "cell_type": "code",
   "execution_count": 13,
   "metadata": {},
   "outputs": [
    {
     "data": {
      "text/html": [
       "\n",
       "<div id=\"altair-viz-61ed26ba366a40099483f0f1dc8c1027\"></div>\n",
       "<script type=\"text/javascript\">\n",
       "  (function(spec, embedOpt){\n",
       "    const outputDiv = document.getElementById(\"altair-viz-61ed26ba366a40099483f0f1dc8c1027\");\n",
       "    const paths = {\n",
       "      \"vega\": \"https://cdn.jsdelivr.net/npm//vega@5?noext\",\n",
       "      \"vega-lib\": \"https://cdn.jsdelivr.net/npm//vega-lib?noext\",\n",
       "      \"vega-lite\": \"https://cdn.jsdelivr.net/npm//vega-lite@4.0.2?noext\",\n",
       "      \"vega-embed\": \"https://cdn.jsdelivr.net/npm//vega-embed@6?noext\",\n",
       "    };\n",
       "\n",
       "    function loadScript(lib) {\n",
       "      return new Promise(function(resolve, reject) {\n",
       "        var s = document.createElement('script');\n",
       "        s.src = paths[lib];\n",
       "        s.async = true;\n",
       "        s.onload = () => resolve(paths[lib]);\n",
       "        s.onerror = () => reject(`Error loading script: ${paths[lib]}`);\n",
       "        document.getElementsByTagName(\"head\")[0].appendChild(s);\n",
       "      });\n",
       "    }\n",
       "\n",
       "    function showError(err) {\n",
       "      outputDiv.innerHTML = `<div class=\"error\" style=\"color:red;\">${err}</div>`;\n",
       "      throw err;\n",
       "    }\n",
       "\n",
       "    function displayChart(vegaEmbed) {\n",
       "      vegaEmbed(outputDiv, spec, embedOpt)\n",
       "        .catch(err => showError(`Javascript Error: ${err.message}<br>This usually means there's a typo in your chart specification. See the javascript console for the full traceback.`));\n",
       "    }\n",
       "\n",
       "    if(typeof define === \"function\" && define.amd) {\n",
       "      requirejs.config({paths});\n",
       "      require([\"vega-embed\"], displayChart, err => showError(`Error loading script: ${err.message}`));\n",
       "    } else if (typeof vegaEmbed === \"function\") {\n",
       "      displayChart(vegaEmbed);\n",
       "    } else {\n",
       "      loadScript(\"vega\")\n",
       "        .then(() => loadScript(\"vega-lite\"))\n",
       "        .then(() => loadScript(\"vega-embed\"))\n",
       "        .catch(showError)\n",
       "        .then(() => displayChart(vegaEmbed));\n",
       "    }\n",
       "  })({\"config\": {\"view\": {\"continuousWidth\": 400, \"continuousHeight\": 300}, \"axis\": {\"grid\": false}}, \"data\": {\"name\": \"data-49cbf78c4dcb1bd4c20658f8c6b4d92e\"}, \"mark\": \"area\", \"encoding\": {\"color\": {\"type\": \"nominal\", \"field\": \"Case\"}, \"x\": {\"type\": \"temporal\", \"field\": \"Date\"}, \"y\": {\"type\": \"quantitative\", \"field\": \"Count\"}}, \"title\": \"Covid cases over time\", \"width\": 600, \"$schema\": \"https://vega.github.io/schema/vega-lite/v4.0.2.json\", \"datasets\": {\"data-49cbf78c4dcb1bd4c20658f8c6b4d92e\": [{\"Date\": \"2020-01-22T00:00:00\", \"Case\": \"Recovered\", \"Count\": 28}, {\"Date\": \"2020-01-23T00:00:00\", \"Case\": \"Recovered\", \"Count\": 30}, {\"Date\": \"2020-01-24T00:00:00\", \"Case\": \"Recovered\", \"Count\": 36}, {\"Date\": \"2020-01-25T00:00:00\", \"Case\": \"Recovered\", \"Count\": 39}, {\"Date\": \"2020-01-26T00:00:00\", \"Case\": \"Recovered\", \"Count\": 52}, {\"Date\": \"2020-01-27T00:00:00\", \"Case\": \"Recovered\", \"Count\": 61}, {\"Date\": \"2020-01-28T00:00:00\", \"Case\": \"Recovered\", \"Count\": 107}, {\"Date\": \"2020-01-29T00:00:00\", \"Case\": \"Recovered\", \"Count\": 126}, {\"Date\": \"2020-01-30T00:00:00\", \"Case\": \"Recovered\", \"Count\": 143}, {\"Date\": \"2020-01-31T00:00:00\", \"Case\": \"Recovered\", \"Count\": 222}, {\"Date\": \"2020-02-01T00:00:00\", \"Case\": \"Recovered\", \"Count\": 284}, {\"Date\": \"2020-02-02T00:00:00\", \"Case\": \"Recovered\", \"Count\": 472}, {\"Date\": \"2020-02-03T00:00:00\", \"Case\": \"Recovered\", \"Count\": 623}, {\"Date\": \"2020-02-04T00:00:00\", \"Case\": \"Recovered\", \"Count\": 852}, {\"Date\": \"2020-02-05T00:00:00\", \"Case\": \"Recovered\", \"Count\": 1124}, {\"Date\": \"2020-02-06T00:00:00\", \"Case\": \"Recovered\", \"Count\": 1487}, {\"Date\": \"2020-02-07T00:00:00\", \"Case\": \"Recovered\", \"Count\": 2011}, {\"Date\": \"2020-02-08T00:00:00\", \"Case\": \"Recovered\", \"Count\": 2616}, {\"Date\": \"2020-02-09T00:00:00\", \"Case\": \"Recovered\", \"Count\": 3241}, {\"Date\": \"2020-02-10T00:00:00\", \"Case\": \"Recovered\", \"Count\": 3943}, {\"Date\": \"2020-02-11T00:00:00\", \"Case\": \"Recovered\", \"Count\": 4680}, {\"Date\": \"2020-02-12T00:00:00\", \"Case\": \"Recovered\", \"Count\": 5147}, {\"Date\": \"2020-02-13T00:00:00\", \"Case\": \"Recovered\", \"Count\": 6292}, {\"Date\": \"2020-02-14T00:00:00\", \"Case\": \"Recovered\", \"Count\": 8055}, {\"Date\": \"2020-02-15T00:00:00\", \"Case\": \"Recovered\", \"Count\": 9392}, {\"Date\": \"2020-02-16T00:00:00\", \"Case\": \"Recovered\", \"Count\": 10862}, {\"Date\": \"2020-02-17T00:00:00\", \"Case\": \"Recovered\", \"Count\": 12580}, {\"Date\": \"2020-02-18T00:00:00\", \"Case\": \"Recovered\", \"Count\": 14349}, {\"Date\": \"2020-02-19T00:00:00\", \"Case\": \"Recovered\", \"Count\": 16118}, {\"Date\": \"2020-02-20T00:00:00\", \"Case\": \"Recovered\", \"Count\": 18174}, {\"Date\": \"2020-02-21T00:00:00\", \"Case\": \"Recovered\", \"Count\": 18885}, {\"Date\": \"2020-02-22T00:00:00\", \"Case\": \"Recovered\", \"Count\": 22881}, {\"Date\": \"2020-02-23T00:00:00\", \"Case\": \"Recovered\", \"Count\": 23389}, {\"Date\": \"2020-02-24T00:00:00\", \"Case\": \"Recovered\", \"Count\": 25222}, {\"Date\": \"2020-02-25T00:00:00\", \"Case\": \"Recovered\", \"Count\": 27899}, {\"Date\": \"2020-02-26T00:00:00\", \"Case\": \"Recovered\", \"Count\": 30378}, {\"Date\": \"2020-02-27T00:00:00\", \"Case\": \"Recovered\", \"Count\": 33271}, {\"Date\": \"2020-02-28T00:00:00\", \"Case\": \"Recovered\", \"Count\": 36704}, {\"Date\": \"2020-02-29T00:00:00\", \"Case\": \"Recovered\", \"Count\": 39775}, {\"Date\": \"2020-03-01T00:00:00\", \"Case\": \"Recovered\", \"Count\": 42709}, {\"Date\": \"2020-03-02T00:00:00\", \"Case\": \"Recovered\", \"Count\": 45595}, {\"Date\": \"2020-03-03T00:00:00\", \"Case\": \"Recovered\", \"Count\": 48221}, {\"Date\": \"2020-03-04T00:00:00\", \"Case\": \"Recovered\", \"Count\": 51163}, {\"Date\": \"2020-03-05T00:00:00\", \"Case\": \"Recovered\", \"Count\": 53789}, {\"Date\": \"2020-03-06T00:00:00\", \"Case\": \"Recovered\", \"Count\": 55858}, {\"Date\": \"2020-03-07T00:00:00\", \"Case\": \"Recovered\", \"Count\": 58351}, {\"Date\": \"2020-03-08T00:00:00\", \"Case\": \"Recovered\", \"Count\": 60687}, {\"Date\": \"2020-03-09T00:00:00\", \"Case\": \"Recovered\", \"Count\": 62487}, {\"Date\": \"2020-03-10T00:00:00\", \"Case\": \"Recovered\", \"Count\": 64404}, {\"Date\": \"2020-03-11T00:00:00\", \"Case\": \"Recovered\", \"Count\": 67003}, {\"Date\": \"2020-03-12T00:00:00\", \"Case\": \"Recovered\", \"Count\": 68324}, {\"Date\": \"2020-03-13T00:00:00\", \"Case\": \"Recovered\", \"Count\": 70251}, {\"Date\": \"2020-03-14T00:00:00\", \"Case\": \"Recovered\", \"Count\": 72624}, {\"Date\": \"2020-03-15T00:00:00\", \"Case\": \"Recovered\", \"Count\": 76034}, {\"Date\": \"2020-03-16T00:00:00\", \"Case\": \"Recovered\", \"Count\": 78088}, {\"Date\": \"2020-01-22T00:00:00\", \"Case\": \"Deaths\", \"Count\": 17}, {\"Date\": \"2020-01-23T00:00:00\", \"Case\": \"Deaths\", \"Count\": 18}, {\"Date\": \"2020-01-24T00:00:00\", \"Case\": \"Deaths\", \"Count\": 26}, {\"Date\": \"2020-01-25T00:00:00\", \"Case\": \"Deaths\", \"Count\": 42}, {\"Date\": \"2020-01-26T00:00:00\", \"Case\": \"Deaths\", \"Count\": 56}, {\"Date\": \"2020-01-27T00:00:00\", \"Case\": \"Deaths\", \"Count\": 82}, {\"Date\": \"2020-01-28T00:00:00\", \"Case\": \"Deaths\", \"Count\": 131}, {\"Date\": \"2020-01-29T00:00:00\", \"Case\": \"Deaths\", \"Count\": 133}, {\"Date\": \"2020-01-30T00:00:00\", \"Case\": \"Deaths\", \"Count\": 171}, {\"Date\": \"2020-01-31T00:00:00\", \"Case\": \"Deaths\", \"Count\": 213}, {\"Date\": \"2020-02-01T00:00:00\", \"Case\": \"Deaths\", \"Count\": 259}, {\"Date\": \"2020-02-02T00:00:00\", \"Case\": \"Deaths\", \"Count\": 362}, {\"Date\": \"2020-02-03T00:00:00\", \"Case\": \"Deaths\", \"Count\": 426}, {\"Date\": \"2020-02-04T00:00:00\", \"Case\": \"Deaths\", \"Count\": 492}, {\"Date\": \"2020-02-05T00:00:00\", \"Case\": \"Deaths\", \"Count\": 564}, {\"Date\": \"2020-02-06T00:00:00\", \"Case\": \"Deaths\", \"Count\": 634}, {\"Date\": \"2020-02-07T00:00:00\", \"Case\": \"Deaths\", \"Count\": 719}, {\"Date\": \"2020-02-08T00:00:00\", \"Case\": \"Deaths\", \"Count\": 806}, {\"Date\": \"2020-02-09T00:00:00\", \"Case\": \"Deaths\", \"Count\": 906}, {\"Date\": \"2020-02-10T00:00:00\", \"Case\": \"Deaths\", \"Count\": 1013}, {\"Date\": \"2020-02-11T00:00:00\", \"Case\": \"Deaths\", \"Count\": 1113}, {\"Date\": \"2020-02-12T00:00:00\", \"Case\": \"Deaths\", \"Count\": 1118}, {\"Date\": \"2020-02-13T00:00:00\", \"Case\": \"Deaths\", \"Count\": 1371}, {\"Date\": \"2020-02-14T00:00:00\", \"Case\": \"Deaths\", \"Count\": 1523}, {\"Date\": \"2020-02-15T00:00:00\", \"Case\": \"Deaths\", \"Count\": 1666}, {\"Date\": \"2020-02-16T00:00:00\", \"Case\": \"Deaths\", \"Count\": 1770}, {\"Date\": \"2020-02-17T00:00:00\", \"Case\": \"Deaths\", \"Count\": 1868}, {\"Date\": \"2020-02-18T00:00:00\", \"Case\": \"Deaths\", \"Count\": 2007}, {\"Date\": \"2020-02-19T00:00:00\", \"Case\": \"Deaths\", \"Count\": 2122}, {\"Date\": \"2020-02-20T00:00:00\", \"Case\": \"Deaths\", \"Count\": 2247}, {\"Date\": \"2020-02-21T00:00:00\", \"Case\": \"Deaths\", \"Count\": 2251}, {\"Date\": \"2020-02-22T00:00:00\", \"Case\": \"Deaths\", \"Count\": 2458}, {\"Date\": \"2020-02-23T00:00:00\", \"Case\": \"Deaths\", \"Count\": 2469}, {\"Date\": \"2020-02-24T00:00:00\", \"Case\": \"Deaths\", \"Count\": 2629}, {\"Date\": \"2020-02-25T00:00:00\", \"Case\": \"Deaths\", \"Count\": 2708}, {\"Date\": \"2020-02-26T00:00:00\", \"Case\": \"Deaths\", \"Count\": 2770}, {\"Date\": \"2020-02-27T00:00:00\", \"Case\": \"Deaths\", \"Count\": 2814}, {\"Date\": \"2020-02-28T00:00:00\", \"Case\": \"Deaths\", \"Count\": 2872}, {\"Date\": \"2020-02-29T00:00:00\", \"Case\": \"Deaths\", \"Count\": 2940}, {\"Date\": \"2020-03-01T00:00:00\", \"Case\": \"Deaths\", \"Count\": 2995}, {\"Date\": \"2020-03-02T00:00:00\", \"Case\": \"Deaths\", \"Count\": 3079}, {\"Date\": \"2020-03-03T00:00:00\", \"Case\": \"Deaths\", \"Count\": 3153}, {\"Date\": \"2020-03-04T00:00:00\", \"Case\": \"Deaths\", \"Count\": 3243}, {\"Date\": \"2020-03-05T00:00:00\", \"Case\": \"Deaths\", \"Count\": 3336}, {\"Date\": \"2020-03-06T00:00:00\", \"Case\": \"Deaths\", \"Count\": 3446}, {\"Date\": \"2020-03-07T00:00:00\", \"Case\": \"Deaths\", \"Count\": 3541}, {\"Date\": \"2020-03-08T00:00:00\", \"Case\": \"Deaths\", \"Count\": 3781}, {\"Date\": \"2020-03-09T00:00:00\", \"Case\": \"Deaths\", \"Count\": 3966}, {\"Date\": \"2020-03-10T00:00:00\", \"Case\": \"Deaths\", \"Count\": 4262}, {\"Date\": \"2020-03-11T00:00:00\", \"Case\": \"Deaths\", \"Count\": 4615}, {\"Date\": \"2020-03-12T00:00:00\", \"Case\": \"Deaths\", \"Count\": 4720}, {\"Date\": \"2020-03-13T00:00:00\", \"Case\": \"Deaths\", \"Count\": 5404}, {\"Date\": \"2020-03-14T00:00:00\", \"Case\": \"Deaths\", \"Count\": 5819}, {\"Date\": \"2020-03-15T00:00:00\", \"Case\": \"Deaths\", \"Count\": 6440}, {\"Date\": \"2020-03-16T00:00:00\", \"Case\": \"Deaths\", \"Count\": 7126}, {\"Date\": \"2020-01-22T00:00:00\", \"Case\": \"Active\", \"Count\": 509}, {\"Date\": \"2020-01-23T00:00:00\", \"Case\": \"Active\", \"Count\": 604}, {\"Date\": \"2020-01-24T00:00:00\", \"Case\": \"Active\", \"Count\": 877}, {\"Date\": \"2020-01-25T00:00:00\", \"Case\": \"Active\", \"Count\": 1351}, {\"Date\": \"2020-01-26T00:00:00\", \"Case\": \"Active\", \"Count\": 2005}, {\"Date\": \"2020-01-27T00:00:00\", \"Case\": \"Active\", \"Count\": 2779}, {\"Date\": \"2020-01-28T00:00:00\", \"Case\": \"Active\", \"Count\": 5335}, {\"Date\": \"2020-01-29T00:00:00\", \"Case\": \"Active\", \"Count\": 5902}, {\"Date\": \"2020-01-30T00:00:00\", \"Case\": \"Active\", \"Count\": 7915}, {\"Date\": \"2020-01-31T00:00:00\", \"Case\": \"Active\", \"Count\": 9485}, {\"Date\": \"2020-02-01T00:00:00\", \"Case\": \"Active\", \"Count\": 11487}, {\"Date\": \"2020-02-02T00:00:00\", \"Case\": \"Active\", \"Count\": 15945}, {\"Date\": \"2020-02-03T00:00:00\", \"Case\": \"Active\", \"Count\": 18821}, {\"Date\": \"2020-02-04T00:00:00\", \"Case\": \"Active\", \"Count\": 22537}, {\"Date\": \"2020-02-05T00:00:00\", \"Case\": \"Active\", \"Count\": 25936}, {\"Date\": \"2020-02-06T00:00:00\", \"Case\": \"Active\", \"Count\": 28685}, {\"Date\": \"2020-02-07T00:00:00\", \"Case\": \"Active\", \"Count\": 31650}, {\"Date\": \"2020-02-08T00:00:00\", \"Case\": \"Active\", \"Count\": 33687}, {\"Date\": \"2020-02-09T00:00:00\", \"Case\": \"Active\", \"Count\": 35992}, {\"Date\": \"2020-02-10T00:00:00\", \"Case\": \"Active\", \"Count\": 37795}, {\"Date\": \"2020-02-11T00:00:00\", \"Case\": \"Active\", \"Count\": 38997}, {\"Date\": \"2020-02-12T00:00:00\", \"Case\": \"Active\", \"Count\": 38944}, {\"Date\": \"2020-02-13T00:00:00\", \"Case\": \"Active\", \"Count\": 52692}, {\"Date\": \"2020-02-14T00:00:00\", \"Case\": \"Active\", \"Count\": 57294}, {\"Date\": \"2020-02-15T00:00:00\", \"Case\": \"Active\", \"Count\": 57959}, {\"Date\": \"2020-02-16T00:00:00\", \"Case\": \"Active\", \"Count\": 58579}, {\"Date\": \"2020-02-17T00:00:00\", \"Case\": \"Active\", \"Count\": 58797}, {\"Date\": \"2020-02-18T00:00:00\", \"Case\": \"Active\", \"Count\": 58767}, {\"Date\": \"2020-02-19T00:00:00\", \"Case\": \"Active\", \"Count\": 57386}, {\"Date\": \"2020-02-20T00:00:00\", \"Case\": \"Active\", \"Count\": 55763}, {\"Date\": \"2020-02-21T00:00:00\", \"Case\": \"Active\", \"Count\": 55672}, {\"Date\": \"2020-02-22T00:00:00\", \"Case\": \"Active\", \"Count\": 53225}, {\"Date\": \"2020-02-23T00:00:00\", \"Case\": \"Active\", \"Count\": 53092}, {\"Date\": \"2020-02-24T00:00:00\", \"Case\": \"Active\", \"Count\": 51702}, {\"Date\": \"2020-02-25T00:00:00\", \"Case\": \"Active\", \"Count\": 49791}, {\"Date\": \"2020-02-26T00:00:00\", \"Case\": \"Active\", \"Count\": 48232}, {\"Date\": \"2020-02-27T00:00:00\", \"Case\": \"Active\", \"Count\": 46653}, {\"Date\": \"2020-02-28T00:00:00\", \"Case\": \"Active\", \"Count\": 44528}, {\"Date\": \"2020-02-29T00:00:00\", \"Case\": \"Active\", \"Count\": 43272}, {\"Date\": \"2020-03-01T00:00:00\", \"Case\": \"Active\", \"Count\": 42635}, {\"Date\": \"2020-03-02T00:00:00\", \"Case\": \"Active\", \"Count\": 41579}, {\"Date\": \"2020-03-03T00:00:00\", \"Case\": \"Active\", \"Count\": 41393}, {\"Date\": \"2020-03-04T00:00:00\", \"Case\": \"Active\", \"Count\": 40610}, {\"Date\": \"2020-03-05T00:00:00\", \"Case\": \"Active\", \"Count\": 40585}, {\"Date\": \"2020-03-06T00:00:00\", \"Case\": \"Active\", \"Count\": 42263}, {\"Date\": \"2020-03-07T00:00:00\", \"Case\": \"Active\", \"Count\": 43593}, {\"Date\": \"2020-03-08T00:00:00\", \"Case\": \"Active\", \"Count\": 44875}, {\"Date\": \"2020-03-09T00:00:00\", \"Case\": \"Active\", \"Count\": 46591}, {\"Date\": \"2020-03-10T00:00:00\", \"Case\": \"Active\", \"Count\": 49926}, {\"Date\": \"2020-03-11T00:00:00\", \"Case\": \"Active\", \"Count\": 54247}, {\"Date\": \"2020-03-12T00:00:00\", \"Case\": \"Active\", \"Count\": 55299}, {\"Date\": \"2020-03-13T00:00:00\", \"Case\": \"Active\", \"Count\": 69538}, {\"Date\": \"2020-03-14T00:00:00\", \"Case\": \"Active\", \"Count\": 77654}, {\"Date\": \"2020-03-15T00:00:00\", \"Case\": \"Active\", \"Count\": 84975}, {\"Date\": \"2020-03-16T00:00:00\", \"Case\": \"Active\", \"Count\": 96332}]}}, {\"mode\": \"vega-lite\"});\n",
       "</script>"
      ],
      "text/plain": [
       "alt.Chart(...)"
      ]
     },
     "execution_count": 13,
     "metadata": {},
     "output_type": "execute_result"
    }
   ],
   "source": [
    "def cases_over_time(country=None, province=None):\n",
    "    title='Covid cases over time'\n",
    "    base_data = covid_full\n",
    "    \n",
    "    if province:\n",
    "        base_data = base_data[base_data.Province==province]\n",
    "        title = f'{title} {province}'\n",
    "        \n",
    "    if country:\n",
    "        base_data = base_data[base_data.Country==country]\n",
    "        title = f'{title} {country}'\n",
    "        \n",
    "\n",
    "        \n",
    "    case_data = base_data.groupby('Date')['Recovered', 'Deaths', 'Active'] \\\n",
    "            .sum().reset_index().melt(id_vars=\"Date\", value_vars=['Recovered', 'Deaths', 'Active'],\n",
    "                     var_name='Case', value_name='Count')\n",
    "    \n",
    "    ## The chart\n",
    "    chart = alt.Chart(case_data).mark_area().encode(\n",
    "            x='Date:T',\n",
    "            y='Count:Q',\n",
    "            color='Case:N'\n",
    "        ).properties(\n",
    "            title=title,\n",
    "            width=600\n",
    "            ).configure_axis(\n",
    "                grid=False\n",
    "            )\n",
    "    return chart\n",
    "\n",
    "cases_over_time()"
   ]
  },
  {
   "cell_type": "markdown",
   "metadata": {},
   "source": [
    "### Cases in Canada"
   ]
  },
  {
   "cell_type": "code",
   "execution_count": 14,
   "metadata": {},
   "outputs": [
    {
     "data": {
      "text/html": [
       "\n",
       "<div id=\"altair-viz-19d5f7b668bb43fd8eaf762a2edd46d1\"></div>\n",
       "<script type=\"text/javascript\">\n",
       "  (function(spec, embedOpt){\n",
       "    const outputDiv = document.getElementById(\"altair-viz-19d5f7b668bb43fd8eaf762a2edd46d1\");\n",
       "    const paths = {\n",
       "      \"vega\": \"https://cdn.jsdelivr.net/npm//vega@5?noext\",\n",
       "      \"vega-lib\": \"https://cdn.jsdelivr.net/npm//vega-lib?noext\",\n",
       "      \"vega-lite\": \"https://cdn.jsdelivr.net/npm//vega-lite@4.0.2?noext\",\n",
       "      \"vega-embed\": \"https://cdn.jsdelivr.net/npm//vega-embed@6?noext\",\n",
       "    };\n",
       "\n",
       "    function loadScript(lib) {\n",
       "      return new Promise(function(resolve, reject) {\n",
       "        var s = document.createElement('script');\n",
       "        s.src = paths[lib];\n",
       "        s.async = true;\n",
       "        s.onload = () => resolve(paths[lib]);\n",
       "        s.onerror = () => reject(`Error loading script: ${paths[lib]}`);\n",
       "        document.getElementsByTagName(\"head\")[0].appendChild(s);\n",
       "      });\n",
       "    }\n",
       "\n",
       "    function showError(err) {\n",
       "      outputDiv.innerHTML = `<div class=\"error\" style=\"color:red;\">${err}</div>`;\n",
       "      throw err;\n",
       "    }\n",
       "\n",
       "    function displayChart(vegaEmbed) {\n",
       "      vegaEmbed(outputDiv, spec, embedOpt)\n",
       "        .catch(err => showError(`Javascript Error: ${err.message}<br>This usually means there's a typo in your chart specification. See the javascript console for the full traceback.`));\n",
       "    }\n",
       "\n",
       "    if(typeof define === \"function\" && define.amd) {\n",
       "      requirejs.config({paths});\n",
       "      require([\"vega-embed\"], displayChart, err => showError(`Error loading script: ${err.message}`));\n",
       "    } else if (typeof vegaEmbed === \"function\") {\n",
       "      displayChart(vegaEmbed);\n",
       "    } else {\n",
       "      loadScript(\"vega\")\n",
       "        .then(() => loadScript(\"vega-lite\"))\n",
       "        .then(() => loadScript(\"vega-embed\"))\n",
       "        .catch(showError)\n",
       "        .then(() => displayChart(vegaEmbed));\n",
       "    }\n",
       "  })({\"config\": {\"view\": {\"continuousWidth\": 400, \"continuousHeight\": 300}, \"axis\": {\"grid\": false}}, \"data\": {\"name\": \"data-4cf0040f3bbc1bb4c9829397d81f78ea\"}, \"mark\": \"area\", \"encoding\": {\"color\": {\"type\": \"nominal\", \"field\": \"Case\"}, \"x\": {\"type\": \"temporal\", \"field\": \"Date\"}, \"y\": {\"type\": \"quantitative\", \"field\": \"Count\"}}, \"title\": \"Covid cases over time Canada\", \"width\": 600, \"$schema\": \"https://vega.github.io/schema/vega-lite/v4.0.2.json\", \"datasets\": {\"data-4cf0040f3bbc1bb4c9829397d81f78ea\": [{\"Date\": \"2020-01-22T00:00:00\", \"Case\": \"Recovered\", \"Count\": 0}, {\"Date\": \"2020-01-23T00:00:00\", \"Case\": \"Recovered\", \"Count\": 0}, {\"Date\": \"2020-01-24T00:00:00\", \"Case\": \"Recovered\", \"Count\": 0}, {\"Date\": \"2020-01-25T00:00:00\", \"Case\": \"Recovered\", \"Count\": 0}, {\"Date\": \"2020-01-26T00:00:00\", \"Case\": \"Recovered\", \"Count\": 0}, {\"Date\": \"2020-01-27T00:00:00\", \"Case\": \"Recovered\", \"Count\": 0}, {\"Date\": \"2020-01-28T00:00:00\", \"Case\": \"Recovered\", \"Count\": 0}, {\"Date\": \"2020-01-29T00:00:00\", \"Case\": \"Recovered\", \"Count\": 0}, {\"Date\": \"2020-01-30T00:00:00\", \"Case\": \"Recovered\", \"Count\": 0}, {\"Date\": \"2020-01-31T00:00:00\", \"Case\": \"Recovered\", \"Count\": 0}, {\"Date\": \"2020-02-01T00:00:00\", \"Case\": \"Recovered\", \"Count\": 0}, {\"Date\": \"2020-02-02T00:00:00\", \"Case\": \"Recovered\", \"Count\": 0}, {\"Date\": \"2020-02-03T00:00:00\", \"Case\": \"Recovered\", \"Count\": 0}, {\"Date\": \"2020-02-04T00:00:00\", \"Case\": \"Recovered\", \"Count\": 0}, {\"Date\": \"2020-02-05T00:00:00\", \"Case\": \"Recovered\", \"Count\": 0}, {\"Date\": \"2020-02-06T00:00:00\", \"Case\": \"Recovered\", \"Count\": 0}, {\"Date\": \"2020-02-07T00:00:00\", \"Case\": \"Recovered\", \"Count\": 0}, {\"Date\": \"2020-02-08T00:00:00\", \"Case\": \"Recovered\", \"Count\": 0}, {\"Date\": \"2020-02-09T00:00:00\", \"Case\": \"Recovered\", \"Count\": 0}, {\"Date\": \"2020-02-10T00:00:00\", \"Case\": \"Recovered\", \"Count\": 0}, {\"Date\": \"2020-02-11T00:00:00\", \"Case\": \"Recovered\", \"Count\": 0}, {\"Date\": \"2020-02-12T00:00:00\", \"Case\": \"Recovered\", \"Count\": 1}, {\"Date\": \"2020-02-13T00:00:00\", \"Case\": \"Recovered\", \"Count\": 1}, {\"Date\": \"2020-02-14T00:00:00\", \"Case\": \"Recovered\", \"Count\": 1}, {\"Date\": \"2020-02-15T00:00:00\", \"Case\": \"Recovered\", \"Count\": 1}, {\"Date\": \"2020-02-16T00:00:00\", \"Case\": \"Recovered\", \"Count\": 1}, {\"Date\": \"2020-02-17T00:00:00\", \"Case\": \"Recovered\", \"Count\": 1}, {\"Date\": \"2020-02-18T00:00:00\", \"Case\": \"Recovered\", \"Count\": 1}, {\"Date\": \"2020-02-19T00:00:00\", \"Case\": \"Recovered\", \"Count\": 1}, {\"Date\": \"2020-02-20T00:00:00\", \"Case\": \"Recovered\", \"Count\": 1}, {\"Date\": \"2020-02-21T00:00:00\", \"Case\": \"Recovered\", \"Count\": 3}, {\"Date\": \"2020-02-22T00:00:00\", \"Case\": \"Recovered\", \"Count\": 3}, {\"Date\": \"2020-02-23T00:00:00\", \"Case\": \"Recovered\", \"Count\": 3}, {\"Date\": \"2020-02-24T00:00:00\", \"Case\": \"Recovered\", \"Count\": 3}, {\"Date\": \"2020-02-25T00:00:00\", \"Case\": \"Recovered\", \"Count\": 3}, {\"Date\": \"2020-02-26T00:00:00\", \"Case\": \"Recovered\", \"Count\": 3}, {\"Date\": \"2020-02-27T00:00:00\", \"Case\": \"Recovered\", \"Count\": 6}, {\"Date\": \"2020-02-28T00:00:00\", \"Case\": \"Recovered\", \"Count\": 6}, {\"Date\": \"2020-02-29T00:00:00\", \"Case\": \"Recovered\", \"Count\": 6}, {\"Date\": \"2020-03-01T00:00:00\", \"Case\": \"Recovered\", \"Count\": 6}, {\"Date\": \"2020-03-02T00:00:00\", \"Case\": \"Recovered\", \"Count\": 6}, {\"Date\": \"2020-03-03T00:00:00\", \"Case\": \"Recovered\", \"Count\": 6}, {\"Date\": \"2020-03-04T00:00:00\", \"Case\": \"Recovered\", \"Count\": 6}, {\"Date\": \"2020-03-05T00:00:00\", \"Case\": \"Recovered\", \"Count\": 6}, {\"Date\": \"2020-03-06T00:00:00\", \"Case\": \"Recovered\", \"Count\": 6}, {\"Date\": \"2020-03-07T00:00:00\", \"Case\": \"Recovered\", \"Count\": 8}, {\"Date\": \"2020-03-08T00:00:00\", \"Case\": \"Recovered\", \"Count\": 8}, {\"Date\": \"2020-03-09T00:00:00\", \"Case\": \"Recovered\", \"Count\": 8}, {\"Date\": \"2020-03-10T00:00:00\", \"Case\": \"Recovered\", \"Count\": 8}, {\"Date\": \"2020-03-11T00:00:00\", \"Case\": \"Recovered\", \"Count\": 8}, {\"Date\": \"2020-03-12T00:00:00\", \"Case\": \"Recovered\", \"Count\": 8}, {\"Date\": \"2020-03-13T00:00:00\", \"Case\": \"Recovered\", \"Count\": 8}, {\"Date\": \"2020-03-14T00:00:00\", \"Case\": \"Recovered\", \"Count\": 8}, {\"Date\": \"2020-03-15T00:00:00\", \"Case\": \"Recovered\", \"Count\": 8}, {\"Date\": \"2020-03-16T00:00:00\", \"Case\": \"Recovered\", \"Count\": 9}, {\"Date\": \"2020-01-22T00:00:00\", \"Case\": \"Deaths\", \"Count\": 0}, {\"Date\": \"2020-01-23T00:00:00\", \"Case\": \"Deaths\", \"Count\": 0}, {\"Date\": \"2020-01-24T00:00:00\", \"Case\": \"Deaths\", \"Count\": 0}, {\"Date\": \"2020-01-25T00:00:00\", \"Case\": \"Deaths\", \"Count\": 0}, {\"Date\": \"2020-01-26T00:00:00\", \"Case\": \"Deaths\", \"Count\": 0}, {\"Date\": \"2020-01-27T00:00:00\", \"Case\": \"Deaths\", \"Count\": 0}, {\"Date\": \"2020-01-28T00:00:00\", \"Case\": \"Deaths\", \"Count\": 0}, {\"Date\": \"2020-01-29T00:00:00\", \"Case\": \"Deaths\", \"Count\": 0}, {\"Date\": \"2020-01-30T00:00:00\", \"Case\": \"Deaths\", \"Count\": 0}, {\"Date\": \"2020-01-31T00:00:00\", \"Case\": \"Deaths\", \"Count\": 0}, {\"Date\": \"2020-02-01T00:00:00\", \"Case\": \"Deaths\", \"Count\": 0}, {\"Date\": \"2020-02-02T00:00:00\", \"Case\": \"Deaths\", \"Count\": 0}, {\"Date\": \"2020-02-03T00:00:00\", \"Case\": \"Deaths\", \"Count\": 0}, {\"Date\": \"2020-02-04T00:00:00\", \"Case\": \"Deaths\", \"Count\": 0}, {\"Date\": \"2020-02-05T00:00:00\", \"Case\": \"Deaths\", \"Count\": 0}, {\"Date\": \"2020-02-06T00:00:00\", \"Case\": \"Deaths\", \"Count\": 0}, {\"Date\": \"2020-02-07T00:00:00\", \"Case\": \"Deaths\", \"Count\": 0}, {\"Date\": \"2020-02-08T00:00:00\", \"Case\": \"Deaths\", \"Count\": 0}, {\"Date\": \"2020-02-09T00:00:00\", \"Case\": \"Deaths\", \"Count\": 0}, {\"Date\": \"2020-02-10T00:00:00\", \"Case\": \"Deaths\", \"Count\": 0}, {\"Date\": \"2020-02-11T00:00:00\", \"Case\": \"Deaths\", \"Count\": 0}, {\"Date\": \"2020-02-12T00:00:00\", \"Case\": \"Deaths\", \"Count\": 0}, {\"Date\": \"2020-02-13T00:00:00\", \"Case\": \"Deaths\", \"Count\": 0}, {\"Date\": \"2020-02-14T00:00:00\", \"Case\": \"Deaths\", \"Count\": 0}, {\"Date\": \"2020-02-15T00:00:00\", \"Case\": \"Deaths\", \"Count\": 0}, {\"Date\": \"2020-02-16T00:00:00\", \"Case\": \"Deaths\", \"Count\": 0}, {\"Date\": \"2020-02-17T00:00:00\", \"Case\": \"Deaths\", \"Count\": 0}, {\"Date\": \"2020-02-18T00:00:00\", \"Case\": \"Deaths\", \"Count\": 0}, {\"Date\": \"2020-02-19T00:00:00\", \"Case\": \"Deaths\", \"Count\": 0}, {\"Date\": \"2020-02-20T00:00:00\", \"Case\": \"Deaths\", \"Count\": 0}, {\"Date\": \"2020-02-21T00:00:00\", \"Case\": \"Deaths\", \"Count\": 0}, {\"Date\": \"2020-02-22T00:00:00\", \"Case\": \"Deaths\", \"Count\": 0}, {\"Date\": \"2020-02-23T00:00:00\", \"Case\": \"Deaths\", \"Count\": 0}, {\"Date\": \"2020-02-24T00:00:00\", \"Case\": \"Deaths\", \"Count\": 0}, {\"Date\": \"2020-02-25T00:00:00\", \"Case\": \"Deaths\", \"Count\": 0}, {\"Date\": \"2020-02-26T00:00:00\", \"Case\": \"Deaths\", \"Count\": 0}, {\"Date\": \"2020-02-27T00:00:00\", \"Case\": \"Deaths\", \"Count\": 0}, {\"Date\": \"2020-02-28T00:00:00\", \"Case\": \"Deaths\", \"Count\": 0}, {\"Date\": \"2020-02-29T00:00:00\", \"Case\": \"Deaths\", \"Count\": 0}, {\"Date\": \"2020-03-01T00:00:00\", \"Case\": \"Deaths\", \"Count\": 0}, {\"Date\": \"2020-03-02T00:00:00\", \"Case\": \"Deaths\", \"Count\": 0}, {\"Date\": \"2020-03-03T00:00:00\", \"Case\": \"Deaths\", \"Count\": 0}, {\"Date\": \"2020-03-04T00:00:00\", \"Case\": \"Deaths\", \"Count\": 0}, {\"Date\": \"2020-03-05T00:00:00\", \"Case\": \"Deaths\", \"Count\": 0}, {\"Date\": \"2020-03-06T00:00:00\", \"Case\": \"Deaths\", \"Count\": 0}, {\"Date\": \"2020-03-07T00:00:00\", \"Case\": \"Deaths\", \"Count\": 0}, {\"Date\": \"2020-03-08T00:00:00\", \"Case\": \"Deaths\", \"Count\": 0}, {\"Date\": \"2020-03-09T00:00:00\", \"Case\": \"Deaths\", \"Count\": 1}, {\"Date\": \"2020-03-10T00:00:00\", \"Case\": \"Deaths\", \"Count\": 1}, {\"Date\": \"2020-03-11T00:00:00\", \"Case\": \"Deaths\", \"Count\": 1}, {\"Date\": \"2020-03-12T00:00:00\", \"Case\": \"Deaths\", \"Count\": 1}, {\"Date\": \"2020-03-13T00:00:00\", \"Case\": \"Deaths\", \"Count\": 1}, {\"Date\": \"2020-03-14T00:00:00\", \"Case\": \"Deaths\", \"Count\": 1}, {\"Date\": \"2020-03-15T00:00:00\", \"Case\": \"Deaths\", \"Count\": 1}, {\"Date\": \"2020-03-16T00:00:00\", \"Case\": \"Deaths\", \"Count\": 4}, {\"Date\": \"2020-01-22T00:00:00\", \"Case\": \"Active\", \"Count\": 0}, {\"Date\": \"2020-01-23T00:00:00\", \"Case\": \"Active\", \"Count\": 0}, {\"Date\": \"2020-01-24T00:00:00\", \"Case\": \"Active\", \"Count\": 0}, {\"Date\": \"2020-01-25T00:00:00\", \"Case\": \"Active\", \"Count\": 0}, {\"Date\": \"2020-01-26T00:00:00\", \"Case\": \"Active\", \"Count\": 1}, {\"Date\": \"2020-01-27T00:00:00\", \"Case\": \"Active\", \"Count\": 1}, {\"Date\": \"2020-01-28T00:00:00\", \"Case\": \"Active\", \"Count\": 2}, {\"Date\": \"2020-01-29T00:00:00\", \"Case\": \"Active\", \"Count\": 2}, {\"Date\": \"2020-01-30T00:00:00\", \"Case\": \"Active\", \"Count\": 2}, {\"Date\": \"2020-01-31T00:00:00\", \"Case\": \"Active\", \"Count\": 4}, {\"Date\": \"2020-02-01T00:00:00\", \"Case\": \"Active\", \"Count\": 4}, {\"Date\": \"2020-02-02T00:00:00\", \"Case\": \"Active\", \"Count\": 4}, {\"Date\": \"2020-02-03T00:00:00\", \"Case\": \"Active\", \"Count\": 4}, {\"Date\": \"2020-02-04T00:00:00\", \"Case\": \"Active\", \"Count\": 4}, {\"Date\": \"2020-02-05T00:00:00\", \"Case\": \"Active\", \"Count\": 5}, {\"Date\": \"2020-02-06T00:00:00\", \"Case\": \"Active\", \"Count\": 5}, {\"Date\": \"2020-02-07T00:00:00\", \"Case\": \"Active\", \"Count\": 7}, {\"Date\": \"2020-02-08T00:00:00\", \"Case\": \"Active\", \"Count\": 7}, {\"Date\": \"2020-02-09T00:00:00\", \"Case\": \"Active\", \"Count\": 7}, {\"Date\": \"2020-02-10T00:00:00\", \"Case\": \"Active\", \"Count\": 7}, {\"Date\": \"2020-02-11T00:00:00\", \"Case\": \"Active\", \"Count\": 7}, {\"Date\": \"2020-02-12T00:00:00\", \"Case\": \"Active\", \"Count\": 6}, {\"Date\": \"2020-02-13T00:00:00\", \"Case\": \"Active\", \"Count\": 6}, {\"Date\": \"2020-02-14T00:00:00\", \"Case\": \"Active\", \"Count\": 6}, {\"Date\": \"2020-02-15T00:00:00\", \"Case\": \"Active\", \"Count\": 6}, {\"Date\": \"2020-02-16T00:00:00\", \"Case\": \"Active\", \"Count\": 6}, {\"Date\": \"2020-02-17T00:00:00\", \"Case\": \"Active\", \"Count\": 7}, {\"Date\": \"2020-02-18T00:00:00\", \"Case\": \"Active\", \"Count\": 7}, {\"Date\": \"2020-02-19T00:00:00\", \"Case\": \"Active\", \"Count\": 7}, {\"Date\": \"2020-02-20T00:00:00\", \"Case\": \"Active\", \"Count\": 7}, {\"Date\": \"2020-02-21T00:00:00\", \"Case\": \"Active\", \"Count\": 6}, {\"Date\": \"2020-02-22T00:00:00\", \"Case\": \"Active\", \"Count\": 6}, {\"Date\": \"2020-02-23T00:00:00\", \"Case\": \"Active\", \"Count\": 6}, {\"Date\": \"2020-02-24T00:00:00\", \"Case\": \"Active\", \"Count\": 7}, {\"Date\": \"2020-02-25T00:00:00\", \"Case\": \"Active\", \"Count\": 8}, {\"Date\": \"2020-02-26T00:00:00\", \"Case\": \"Active\", \"Count\": 8}, {\"Date\": \"2020-02-27T00:00:00\", \"Case\": \"Active\", \"Count\": 7}, {\"Date\": \"2020-02-28T00:00:00\", \"Case\": \"Active\", \"Count\": 8}, {\"Date\": \"2020-02-29T00:00:00\", \"Case\": \"Active\", \"Count\": 14}, {\"Date\": \"2020-03-01T00:00:00\", \"Case\": \"Active\", \"Count\": 18}, {\"Date\": \"2020-03-02T00:00:00\", \"Case\": \"Active\", \"Count\": 21}, {\"Date\": \"2020-03-03T00:00:00\", \"Case\": \"Active\", \"Count\": 24}, {\"Date\": \"2020-03-04T00:00:00\", \"Case\": \"Active\", \"Count\": 27}, {\"Date\": \"2020-03-05T00:00:00\", \"Case\": \"Active\", \"Count\": 31}, {\"Date\": \"2020-03-06T00:00:00\", \"Case\": \"Active\", \"Count\": 43}, {\"Date\": \"2020-03-07T00:00:00\", \"Case\": \"Active\", \"Count\": 46}, {\"Date\": \"2020-03-08T00:00:00\", \"Case\": \"Active\", \"Count\": 56}, {\"Date\": \"2020-03-09T00:00:00\", \"Case\": \"Active\", \"Count\": 68}, {\"Date\": \"2020-03-10T00:00:00\", \"Case\": \"Active\", \"Count\": 70}, {\"Date\": \"2020-03-11T00:00:00\", \"Case\": \"Active\", \"Count\": 99}, {\"Date\": \"2020-03-12T00:00:00\", \"Case\": \"Active\", \"Count\": 108}, {\"Date\": \"2020-03-13T00:00:00\", \"Case\": \"Active\", \"Count\": 184}, {\"Date\": \"2020-03-14T00:00:00\", \"Case\": \"Active\", \"Count\": 189}, {\"Date\": \"2020-03-15T00:00:00\", \"Case\": \"Active\", \"Count\": 243}, {\"Date\": \"2020-03-16T00:00:00\", \"Case\": \"Active\", \"Count\": 402}]}}, {\"mode\": \"vega-lite\"});\n",
       "</script>"
      ],
      "text/plain": [
       "alt.Chart(...)"
      ]
     },
     "execution_count": 14,
     "metadata": {},
     "output_type": "execute_result"
    }
   ],
   "source": [
    "cases_over_time('Canada')"
   ]
  },
  {
   "cell_type": "markdown",
   "metadata": {},
   "source": [
    "### Cases in Ontario Canada"
   ]
  },
  {
   "cell_type": "code",
   "execution_count": 15,
   "metadata": {},
   "outputs": [
    {
     "data": {
      "text/html": [
       "\n",
       "<div id=\"altair-viz-ac7e2a541c8c4664aa86eb22e8c520cc\"></div>\n",
       "<script type=\"text/javascript\">\n",
       "  (function(spec, embedOpt){\n",
       "    const outputDiv = document.getElementById(\"altair-viz-ac7e2a541c8c4664aa86eb22e8c520cc\");\n",
       "    const paths = {\n",
       "      \"vega\": \"https://cdn.jsdelivr.net/npm//vega@5?noext\",\n",
       "      \"vega-lib\": \"https://cdn.jsdelivr.net/npm//vega-lib?noext\",\n",
       "      \"vega-lite\": \"https://cdn.jsdelivr.net/npm//vega-lite@4.0.2?noext\",\n",
       "      \"vega-embed\": \"https://cdn.jsdelivr.net/npm//vega-embed@6?noext\",\n",
       "    };\n",
       "\n",
       "    function loadScript(lib) {\n",
       "      return new Promise(function(resolve, reject) {\n",
       "        var s = document.createElement('script');\n",
       "        s.src = paths[lib];\n",
       "        s.async = true;\n",
       "        s.onload = () => resolve(paths[lib]);\n",
       "        s.onerror = () => reject(`Error loading script: ${paths[lib]}`);\n",
       "        document.getElementsByTagName(\"head\")[0].appendChild(s);\n",
       "      });\n",
       "    }\n",
       "\n",
       "    function showError(err) {\n",
       "      outputDiv.innerHTML = `<div class=\"error\" style=\"color:red;\">${err}</div>`;\n",
       "      throw err;\n",
       "    }\n",
       "\n",
       "    function displayChart(vegaEmbed) {\n",
       "      vegaEmbed(outputDiv, spec, embedOpt)\n",
       "        .catch(err => showError(`Javascript Error: ${err.message}<br>This usually means there's a typo in your chart specification. See the javascript console for the full traceback.`));\n",
       "    }\n",
       "\n",
       "    if(typeof define === \"function\" && define.amd) {\n",
       "      requirejs.config({paths});\n",
       "      require([\"vega-embed\"], displayChart, err => showError(`Error loading script: ${err.message}`));\n",
       "    } else if (typeof vegaEmbed === \"function\") {\n",
       "      displayChart(vegaEmbed);\n",
       "    } else {\n",
       "      loadScript(\"vega\")\n",
       "        .then(() => loadScript(\"vega-lite\"))\n",
       "        .then(() => loadScript(\"vega-embed\"))\n",
       "        .catch(showError)\n",
       "        .then(() => displayChart(vegaEmbed));\n",
       "    }\n",
       "  })({\"config\": {\"view\": {\"continuousWidth\": 400, \"continuousHeight\": 300}, \"axis\": {\"grid\": false}}, \"data\": {\"name\": \"data-0f622190cf9c59faf5f52142bf7da7bb\"}, \"mark\": \"area\", \"encoding\": {\"color\": {\"type\": \"nominal\", \"field\": \"Case\"}, \"x\": {\"type\": \"temporal\", \"field\": \"Date\"}, \"y\": {\"type\": \"quantitative\", \"field\": \"Count\"}}, \"title\": \"Covid cases over time Ontario Canada\", \"width\": 600, \"$schema\": \"https://vega.github.io/schema/vega-lite/v4.0.2.json\", \"datasets\": {\"data-0f622190cf9c59faf5f52142bf7da7bb\": [{\"Date\": \"2020-01-22T00:00:00\", \"Case\": \"Recovered\", \"Count\": 0}, {\"Date\": \"2020-01-23T00:00:00\", \"Case\": \"Recovered\", \"Count\": 0}, {\"Date\": \"2020-01-24T00:00:00\", \"Case\": \"Recovered\", \"Count\": 0}, {\"Date\": \"2020-01-25T00:00:00\", \"Case\": \"Recovered\", \"Count\": 0}, {\"Date\": \"2020-01-26T00:00:00\", \"Case\": \"Recovered\", \"Count\": 0}, {\"Date\": \"2020-01-27T00:00:00\", \"Case\": \"Recovered\", \"Count\": 0}, {\"Date\": \"2020-01-28T00:00:00\", \"Case\": \"Recovered\", \"Count\": 0}, {\"Date\": \"2020-01-29T00:00:00\", \"Case\": \"Recovered\", \"Count\": 0}, {\"Date\": \"2020-01-30T00:00:00\", \"Case\": \"Recovered\", \"Count\": 0}, {\"Date\": \"2020-01-31T00:00:00\", \"Case\": \"Recovered\", \"Count\": 0}, {\"Date\": \"2020-02-01T00:00:00\", \"Case\": \"Recovered\", \"Count\": 0}, {\"Date\": \"2020-02-02T00:00:00\", \"Case\": \"Recovered\", \"Count\": 0}, {\"Date\": \"2020-02-03T00:00:00\", \"Case\": \"Recovered\", \"Count\": 0}, {\"Date\": \"2020-02-04T00:00:00\", \"Case\": \"Recovered\", \"Count\": 0}, {\"Date\": \"2020-02-05T00:00:00\", \"Case\": \"Recovered\", \"Count\": 0}, {\"Date\": \"2020-02-06T00:00:00\", \"Case\": \"Recovered\", \"Count\": 0}, {\"Date\": \"2020-02-07T00:00:00\", \"Case\": \"Recovered\", \"Count\": 0}, {\"Date\": \"2020-02-08T00:00:00\", \"Case\": \"Recovered\", \"Count\": 0}, {\"Date\": \"2020-02-09T00:00:00\", \"Case\": \"Recovered\", \"Count\": 0}, {\"Date\": \"2020-02-10T00:00:00\", \"Case\": \"Recovered\", \"Count\": 0}, {\"Date\": \"2020-02-11T00:00:00\", \"Case\": \"Recovered\", \"Count\": 0}, {\"Date\": \"2020-02-12T00:00:00\", \"Case\": \"Recovered\", \"Count\": 1}, {\"Date\": \"2020-02-13T00:00:00\", \"Case\": \"Recovered\", \"Count\": 1}, {\"Date\": \"2020-02-14T00:00:00\", \"Case\": \"Recovered\", \"Count\": 1}, {\"Date\": \"2020-02-15T00:00:00\", \"Case\": \"Recovered\", \"Count\": 1}, {\"Date\": \"2020-02-16T00:00:00\", \"Case\": \"Recovered\", \"Count\": 1}, {\"Date\": \"2020-02-17T00:00:00\", \"Case\": \"Recovered\", \"Count\": 1}, {\"Date\": \"2020-02-18T00:00:00\", \"Case\": \"Recovered\", \"Count\": 1}, {\"Date\": \"2020-02-19T00:00:00\", \"Case\": \"Recovered\", \"Count\": 1}, {\"Date\": \"2020-02-20T00:00:00\", \"Case\": \"Recovered\", \"Count\": 1}, {\"Date\": \"2020-02-21T00:00:00\", \"Case\": \"Recovered\", \"Count\": 3}, {\"Date\": \"2020-02-22T00:00:00\", \"Case\": \"Recovered\", \"Count\": 3}, {\"Date\": \"2020-02-23T00:00:00\", \"Case\": \"Recovered\", \"Count\": 3}, {\"Date\": \"2020-02-24T00:00:00\", \"Case\": \"Recovered\", \"Count\": 3}, {\"Date\": \"2020-02-25T00:00:00\", \"Case\": \"Recovered\", \"Count\": 3}, {\"Date\": \"2020-02-26T00:00:00\", \"Case\": \"Recovered\", \"Count\": 3}, {\"Date\": \"2020-02-27T00:00:00\", \"Case\": \"Recovered\", \"Count\": 3}, {\"Date\": \"2020-02-28T00:00:00\", \"Case\": \"Recovered\", \"Count\": 3}, {\"Date\": \"2020-02-29T00:00:00\", \"Case\": \"Recovered\", \"Count\": 3}, {\"Date\": \"2020-03-01T00:00:00\", \"Case\": \"Recovered\", \"Count\": 3}, {\"Date\": \"2020-03-02T00:00:00\", \"Case\": \"Recovered\", \"Count\": 3}, {\"Date\": \"2020-03-03T00:00:00\", \"Case\": \"Recovered\", \"Count\": 3}, {\"Date\": \"2020-03-04T00:00:00\", \"Case\": \"Recovered\", \"Count\": 3}, {\"Date\": \"2020-03-05T00:00:00\", \"Case\": \"Recovered\", \"Count\": 3}, {\"Date\": \"2020-03-06T00:00:00\", \"Case\": \"Recovered\", \"Count\": 3}, {\"Date\": \"2020-03-07T00:00:00\", \"Case\": \"Recovered\", \"Count\": 4}, {\"Date\": \"2020-03-08T00:00:00\", \"Case\": \"Recovered\", \"Count\": 4}, {\"Date\": \"2020-03-09T00:00:00\", \"Case\": \"Recovered\", \"Count\": 4}, {\"Date\": \"2020-03-10T00:00:00\", \"Case\": \"Recovered\", \"Count\": 4}, {\"Date\": \"2020-03-11T00:00:00\", \"Case\": \"Recovered\", \"Count\": 4}, {\"Date\": \"2020-03-12T00:00:00\", \"Case\": \"Recovered\", \"Count\": 4}, {\"Date\": \"2020-03-13T00:00:00\", \"Case\": \"Recovered\", \"Count\": 4}, {\"Date\": \"2020-03-14T00:00:00\", \"Case\": \"Recovered\", \"Count\": 4}, {\"Date\": \"2020-03-15T00:00:00\", \"Case\": \"Recovered\", \"Count\": 4}, {\"Date\": \"2020-03-16T00:00:00\", \"Case\": \"Recovered\", \"Count\": 5}, {\"Date\": \"2020-01-22T00:00:00\", \"Case\": \"Deaths\", \"Count\": 0}, {\"Date\": \"2020-01-23T00:00:00\", \"Case\": \"Deaths\", \"Count\": 0}, {\"Date\": \"2020-01-24T00:00:00\", \"Case\": \"Deaths\", \"Count\": 0}, {\"Date\": \"2020-01-25T00:00:00\", \"Case\": \"Deaths\", \"Count\": 0}, {\"Date\": \"2020-01-26T00:00:00\", \"Case\": \"Deaths\", \"Count\": 0}, {\"Date\": \"2020-01-27T00:00:00\", \"Case\": \"Deaths\", \"Count\": 0}, {\"Date\": \"2020-01-28T00:00:00\", \"Case\": \"Deaths\", \"Count\": 0}, {\"Date\": \"2020-01-29T00:00:00\", \"Case\": \"Deaths\", \"Count\": 0}, {\"Date\": \"2020-01-30T00:00:00\", \"Case\": \"Deaths\", \"Count\": 0}, {\"Date\": \"2020-01-31T00:00:00\", \"Case\": \"Deaths\", \"Count\": 0}, {\"Date\": \"2020-02-01T00:00:00\", \"Case\": \"Deaths\", \"Count\": 0}, {\"Date\": \"2020-02-02T00:00:00\", \"Case\": \"Deaths\", \"Count\": 0}, {\"Date\": \"2020-02-03T00:00:00\", \"Case\": \"Deaths\", \"Count\": 0}, {\"Date\": \"2020-02-04T00:00:00\", \"Case\": \"Deaths\", \"Count\": 0}, {\"Date\": \"2020-02-05T00:00:00\", \"Case\": \"Deaths\", \"Count\": 0}, {\"Date\": \"2020-02-06T00:00:00\", \"Case\": \"Deaths\", \"Count\": 0}, {\"Date\": \"2020-02-07T00:00:00\", \"Case\": \"Deaths\", \"Count\": 0}, {\"Date\": \"2020-02-08T00:00:00\", \"Case\": \"Deaths\", \"Count\": 0}, {\"Date\": \"2020-02-09T00:00:00\", \"Case\": \"Deaths\", \"Count\": 0}, {\"Date\": \"2020-02-10T00:00:00\", \"Case\": \"Deaths\", \"Count\": 0}, {\"Date\": \"2020-02-11T00:00:00\", \"Case\": \"Deaths\", \"Count\": 0}, {\"Date\": \"2020-02-12T00:00:00\", \"Case\": \"Deaths\", \"Count\": 0}, {\"Date\": \"2020-02-13T00:00:00\", \"Case\": \"Deaths\", \"Count\": 0}, {\"Date\": \"2020-02-14T00:00:00\", \"Case\": \"Deaths\", \"Count\": 0}, {\"Date\": \"2020-02-15T00:00:00\", \"Case\": \"Deaths\", \"Count\": 0}, {\"Date\": \"2020-02-16T00:00:00\", \"Case\": \"Deaths\", \"Count\": 0}, {\"Date\": \"2020-02-17T00:00:00\", \"Case\": \"Deaths\", \"Count\": 0}, {\"Date\": \"2020-02-18T00:00:00\", \"Case\": \"Deaths\", \"Count\": 0}, {\"Date\": \"2020-02-19T00:00:00\", \"Case\": \"Deaths\", \"Count\": 0}, {\"Date\": \"2020-02-20T00:00:00\", \"Case\": \"Deaths\", \"Count\": 0}, {\"Date\": \"2020-02-21T00:00:00\", \"Case\": \"Deaths\", \"Count\": 0}, {\"Date\": \"2020-02-22T00:00:00\", \"Case\": \"Deaths\", \"Count\": 0}, {\"Date\": \"2020-02-23T00:00:00\", \"Case\": \"Deaths\", \"Count\": 0}, {\"Date\": \"2020-02-24T00:00:00\", \"Case\": \"Deaths\", \"Count\": 0}, {\"Date\": \"2020-02-25T00:00:00\", \"Case\": \"Deaths\", \"Count\": 0}, {\"Date\": \"2020-02-26T00:00:00\", \"Case\": \"Deaths\", \"Count\": 0}, {\"Date\": \"2020-02-27T00:00:00\", \"Case\": \"Deaths\", \"Count\": 0}, {\"Date\": \"2020-02-28T00:00:00\", \"Case\": \"Deaths\", \"Count\": 0}, {\"Date\": \"2020-02-29T00:00:00\", \"Case\": \"Deaths\", \"Count\": 0}, {\"Date\": \"2020-03-01T00:00:00\", \"Case\": \"Deaths\", \"Count\": 0}, {\"Date\": \"2020-03-02T00:00:00\", \"Case\": \"Deaths\", \"Count\": 0}, {\"Date\": \"2020-03-03T00:00:00\", \"Case\": \"Deaths\", \"Count\": 0}, {\"Date\": \"2020-03-04T00:00:00\", \"Case\": \"Deaths\", \"Count\": 0}, {\"Date\": \"2020-03-05T00:00:00\", \"Case\": \"Deaths\", \"Count\": 0}, {\"Date\": \"2020-03-06T00:00:00\", \"Case\": \"Deaths\", \"Count\": 0}, {\"Date\": \"2020-03-07T00:00:00\", \"Case\": \"Deaths\", \"Count\": 0}, {\"Date\": \"2020-03-08T00:00:00\", \"Case\": \"Deaths\", \"Count\": 0}, {\"Date\": \"2020-03-09T00:00:00\", \"Case\": \"Deaths\", \"Count\": 0}, {\"Date\": \"2020-03-10T00:00:00\", \"Case\": \"Deaths\", \"Count\": 0}, {\"Date\": \"2020-03-11T00:00:00\", \"Case\": \"Deaths\", \"Count\": 0}, {\"Date\": \"2020-03-12T00:00:00\", \"Case\": \"Deaths\", \"Count\": 0}, {\"Date\": \"2020-03-13T00:00:00\", \"Case\": \"Deaths\", \"Count\": 0}, {\"Date\": \"2020-03-14T00:00:00\", \"Case\": \"Deaths\", \"Count\": 0}, {\"Date\": \"2020-03-15T00:00:00\", \"Case\": \"Deaths\", \"Count\": 0}, {\"Date\": \"2020-03-16T00:00:00\", \"Case\": \"Deaths\", \"Count\": 0}, {\"Date\": \"2020-01-22T00:00:00\", \"Case\": \"Active\", \"Count\": 0}, {\"Date\": \"2020-01-23T00:00:00\", \"Case\": \"Active\", \"Count\": 0}, {\"Date\": \"2020-01-24T00:00:00\", \"Case\": \"Active\", \"Count\": 0}, {\"Date\": \"2020-01-25T00:00:00\", \"Case\": \"Active\", \"Count\": 0}, {\"Date\": \"2020-01-26T00:00:00\", \"Case\": \"Active\", \"Count\": 1}, {\"Date\": \"2020-01-27T00:00:00\", \"Case\": \"Active\", \"Count\": 1}, {\"Date\": \"2020-01-28T00:00:00\", \"Case\": \"Active\", \"Count\": 1}, {\"Date\": \"2020-01-29T00:00:00\", \"Case\": \"Active\", \"Count\": 1}, {\"Date\": \"2020-01-30T00:00:00\", \"Case\": \"Active\", \"Count\": 1}, {\"Date\": \"2020-01-31T00:00:00\", \"Case\": \"Active\", \"Count\": 3}, {\"Date\": \"2020-02-01T00:00:00\", \"Case\": \"Active\", \"Count\": 3}, {\"Date\": \"2020-02-02T00:00:00\", \"Case\": \"Active\", \"Count\": 3}, {\"Date\": \"2020-02-03T00:00:00\", \"Case\": \"Active\", \"Count\": 3}, {\"Date\": \"2020-02-04T00:00:00\", \"Case\": \"Active\", \"Count\": 3}, {\"Date\": \"2020-02-05T00:00:00\", \"Case\": \"Active\", \"Count\": 3}, {\"Date\": \"2020-02-06T00:00:00\", \"Case\": \"Active\", \"Count\": 3}, {\"Date\": \"2020-02-07T00:00:00\", \"Case\": \"Active\", \"Count\": 3}, {\"Date\": \"2020-02-08T00:00:00\", \"Case\": \"Active\", \"Count\": 3}, {\"Date\": \"2020-02-09T00:00:00\", \"Case\": \"Active\", \"Count\": 3}, {\"Date\": \"2020-02-10T00:00:00\", \"Case\": \"Active\", \"Count\": 3}, {\"Date\": \"2020-02-11T00:00:00\", \"Case\": \"Active\", \"Count\": 3}, {\"Date\": \"2020-02-12T00:00:00\", \"Case\": \"Active\", \"Count\": 2}, {\"Date\": \"2020-02-13T00:00:00\", \"Case\": \"Active\", \"Count\": 2}, {\"Date\": \"2020-02-14T00:00:00\", \"Case\": \"Active\", \"Count\": 2}, {\"Date\": \"2020-02-15T00:00:00\", \"Case\": \"Active\", \"Count\": 2}, {\"Date\": \"2020-02-16T00:00:00\", \"Case\": \"Active\", \"Count\": 2}, {\"Date\": \"2020-02-17T00:00:00\", \"Case\": \"Active\", \"Count\": 2}, {\"Date\": \"2020-02-18T00:00:00\", \"Case\": \"Active\", \"Count\": 2}, {\"Date\": \"2020-02-19T00:00:00\", \"Case\": \"Active\", \"Count\": 2}, {\"Date\": \"2020-02-20T00:00:00\", \"Case\": \"Active\", \"Count\": 2}, {\"Date\": \"2020-02-21T00:00:00\", \"Case\": \"Active\", \"Count\": 0}, {\"Date\": \"2020-02-22T00:00:00\", \"Case\": \"Active\", \"Count\": 0}, {\"Date\": \"2020-02-23T00:00:00\", \"Case\": \"Active\", \"Count\": 0}, {\"Date\": \"2020-02-24T00:00:00\", \"Case\": \"Active\", \"Count\": 1}, {\"Date\": \"2020-02-25T00:00:00\", \"Case\": \"Active\", \"Count\": 1}, {\"Date\": \"2020-02-26T00:00:00\", \"Case\": \"Active\", \"Count\": 1}, {\"Date\": \"2020-02-27T00:00:00\", \"Case\": \"Active\", \"Count\": 3}, {\"Date\": \"2020-02-28T00:00:00\", \"Case\": \"Active\", \"Count\": 3}, {\"Date\": \"2020-02-29T00:00:00\", \"Case\": \"Active\", \"Count\": 8}, {\"Date\": \"2020-03-01T00:00:00\", \"Case\": \"Active\", \"Count\": 12}, {\"Date\": \"2020-03-02T00:00:00\", \"Case\": \"Active\", \"Count\": 15}, {\"Date\": \"2020-03-03T00:00:00\", \"Case\": \"Active\", \"Count\": 17}, {\"Date\": \"2020-03-04T00:00:00\", \"Case\": \"Active\", \"Count\": 17}, {\"Date\": \"2020-03-05T00:00:00\", \"Case\": \"Active\", \"Count\": 19}, {\"Date\": \"2020-03-06T00:00:00\", \"Case\": \"Active\", \"Count\": 22}, {\"Date\": \"2020-03-07T00:00:00\", \"Case\": \"Active\", \"Count\": 24}, {\"Date\": \"2020-03-08T00:00:00\", \"Case\": \"Active\", \"Count\": 25}, {\"Date\": \"2020-03-09T00:00:00\", \"Case\": \"Active\", \"Count\": 30}, {\"Date\": \"2020-03-10T00:00:00\", \"Case\": \"Active\", \"Count\": 32}, {\"Date\": \"2020-03-11T00:00:00\", \"Case\": \"Active\", \"Count\": 37}, {\"Date\": \"2020-03-12T00:00:00\", \"Case\": \"Active\", \"Count\": 38}, {\"Date\": \"2020-03-13T00:00:00\", \"Case\": \"Active\", \"Count\": 70}, {\"Date\": \"2020-03-14T00:00:00\", \"Case\": \"Active\", \"Count\": 75}, {\"Date\": \"2020-03-15T00:00:00\", \"Case\": \"Active\", \"Count\": 100}, {\"Date\": \"2020-03-16T00:00:00\", \"Case\": \"Active\", \"Count\": 172}]}}, {\"mode\": \"vega-lite\"});\n",
       "</script>"
      ],
      "text/plain": [
       "alt.Chart(...)"
      ]
     },
     "execution_count": 15,
     "metadata": {},
     "output_type": "execute_result"
    }
   ],
   "source": [
    "cases_over_time('Canada', 'Ontario')"
   ]
  },
  {
   "cell_type": "markdown",
   "metadata": {},
   "source": [
    "### Cases in the USA"
   ]
  },
  {
   "cell_type": "code",
   "execution_count": 16,
   "metadata": {},
   "outputs": [
    {
     "data": {
      "text/html": [
       "\n",
       "<div id=\"altair-viz-1dce11c29b164eeaaa9ab3100198f0d4\"></div>\n",
       "<script type=\"text/javascript\">\n",
       "  (function(spec, embedOpt){\n",
       "    const outputDiv = document.getElementById(\"altair-viz-1dce11c29b164eeaaa9ab3100198f0d4\");\n",
       "    const paths = {\n",
       "      \"vega\": \"https://cdn.jsdelivr.net/npm//vega@5?noext\",\n",
       "      \"vega-lib\": \"https://cdn.jsdelivr.net/npm//vega-lib?noext\",\n",
       "      \"vega-lite\": \"https://cdn.jsdelivr.net/npm//vega-lite@4.0.2?noext\",\n",
       "      \"vega-embed\": \"https://cdn.jsdelivr.net/npm//vega-embed@6?noext\",\n",
       "    };\n",
       "\n",
       "    function loadScript(lib) {\n",
       "      return new Promise(function(resolve, reject) {\n",
       "        var s = document.createElement('script');\n",
       "        s.src = paths[lib];\n",
       "        s.async = true;\n",
       "        s.onload = () => resolve(paths[lib]);\n",
       "        s.onerror = () => reject(`Error loading script: ${paths[lib]}`);\n",
       "        document.getElementsByTagName(\"head\")[0].appendChild(s);\n",
       "      });\n",
       "    }\n",
       "\n",
       "    function showError(err) {\n",
       "      outputDiv.innerHTML = `<div class=\"error\" style=\"color:red;\">${err}</div>`;\n",
       "      throw err;\n",
       "    }\n",
       "\n",
       "    function displayChart(vegaEmbed) {\n",
       "      vegaEmbed(outputDiv, spec, embedOpt)\n",
       "        .catch(err => showError(`Javascript Error: ${err.message}<br>This usually means there's a typo in your chart specification. See the javascript console for the full traceback.`));\n",
       "    }\n",
       "\n",
       "    if(typeof define === \"function\" && define.amd) {\n",
       "      requirejs.config({paths});\n",
       "      require([\"vega-embed\"], displayChart, err => showError(`Error loading script: ${err.message}`));\n",
       "    } else if (typeof vegaEmbed === \"function\") {\n",
       "      displayChart(vegaEmbed);\n",
       "    } else {\n",
       "      loadScript(\"vega\")\n",
       "        .then(() => loadScript(\"vega-lite\"))\n",
       "        .then(() => loadScript(\"vega-embed\"))\n",
       "        .catch(showError)\n",
       "        .then(() => displayChart(vegaEmbed));\n",
       "    }\n",
       "  })({\"config\": {\"view\": {\"continuousWidth\": 400, \"continuousHeight\": 300}, \"axis\": {\"grid\": false}}, \"data\": {\"name\": \"data-1ec6ee69cfa1ae837375fb7144e8e68b\"}, \"mark\": \"area\", \"encoding\": {\"color\": {\"type\": \"nominal\", \"field\": \"Case\"}, \"x\": {\"type\": \"temporal\", \"field\": \"Date\"}, \"y\": {\"type\": \"quantitative\", \"field\": \"Count\"}}, \"title\": \"Covid cases over time US\", \"width\": 600, \"$schema\": \"https://vega.github.io/schema/vega-lite/v4.0.2.json\", \"datasets\": {\"data-1ec6ee69cfa1ae837375fb7144e8e68b\": [{\"Date\": \"2020-01-22T00:00:00\", \"Case\": \"Recovered\", \"Count\": 0}, {\"Date\": \"2020-01-23T00:00:00\", \"Case\": \"Recovered\", \"Count\": 0}, {\"Date\": \"2020-01-24T00:00:00\", \"Case\": \"Recovered\", \"Count\": 0}, {\"Date\": \"2020-01-25T00:00:00\", \"Case\": \"Recovered\", \"Count\": 0}, {\"Date\": \"2020-01-26T00:00:00\", \"Case\": \"Recovered\", \"Count\": 0}, {\"Date\": \"2020-01-27T00:00:00\", \"Case\": \"Recovered\", \"Count\": 0}, {\"Date\": \"2020-01-28T00:00:00\", \"Case\": \"Recovered\", \"Count\": 0}, {\"Date\": \"2020-01-29T00:00:00\", \"Case\": \"Recovered\", \"Count\": 0}, {\"Date\": \"2020-01-30T00:00:00\", \"Case\": \"Recovered\", \"Count\": 0}, {\"Date\": \"2020-01-31T00:00:00\", \"Case\": \"Recovered\", \"Count\": 0}, {\"Date\": \"2020-02-01T00:00:00\", \"Case\": \"Recovered\", \"Count\": 0}, {\"Date\": \"2020-02-02T00:00:00\", \"Case\": \"Recovered\", \"Count\": 0}, {\"Date\": \"2020-02-03T00:00:00\", \"Case\": \"Recovered\", \"Count\": 0}, {\"Date\": \"2020-02-04T00:00:00\", \"Case\": \"Recovered\", \"Count\": 0}, {\"Date\": \"2020-02-05T00:00:00\", \"Case\": \"Recovered\", \"Count\": 0}, {\"Date\": \"2020-02-06T00:00:00\", \"Case\": \"Recovered\", \"Count\": 0}, {\"Date\": \"2020-02-07T00:00:00\", \"Case\": \"Recovered\", \"Count\": 0}, {\"Date\": \"2020-02-08T00:00:00\", \"Case\": \"Recovered\", \"Count\": 0}, {\"Date\": \"2020-02-09T00:00:00\", \"Case\": \"Recovered\", \"Count\": 0}, {\"Date\": \"2020-02-10T00:00:00\", \"Case\": \"Recovered\", \"Count\": 0}, {\"Date\": \"2020-02-11T00:00:00\", \"Case\": \"Recovered\", \"Count\": 0}, {\"Date\": \"2020-02-12T00:00:00\", \"Case\": \"Recovered\", \"Count\": 0}, {\"Date\": \"2020-02-13T00:00:00\", \"Case\": \"Recovered\", \"Count\": 0}, {\"Date\": \"2020-02-14T00:00:00\", \"Case\": \"Recovered\", \"Count\": 0}, {\"Date\": \"2020-02-15T00:00:00\", \"Case\": \"Recovered\", \"Count\": 0}, {\"Date\": \"2020-02-16T00:00:00\", \"Case\": \"Recovered\", \"Count\": 0}, {\"Date\": \"2020-02-17T00:00:00\", \"Case\": \"Recovered\", \"Count\": 0}, {\"Date\": \"2020-02-18T00:00:00\", \"Case\": \"Recovered\", \"Count\": 0}, {\"Date\": \"2020-02-19T00:00:00\", \"Case\": \"Recovered\", \"Count\": 0}, {\"Date\": \"2020-02-20T00:00:00\", \"Case\": \"Recovered\", \"Count\": 0}, {\"Date\": \"2020-02-21T00:00:00\", \"Case\": \"Recovered\", \"Count\": 0}, {\"Date\": \"2020-02-22T00:00:00\", \"Case\": \"Recovered\", \"Count\": 0}, {\"Date\": \"2020-02-23T00:00:00\", \"Case\": \"Recovered\", \"Count\": 0}, {\"Date\": \"2020-02-24T00:00:00\", \"Case\": \"Recovered\", \"Count\": 0}, {\"Date\": \"2020-02-25T00:00:00\", \"Case\": \"Recovered\", \"Count\": 0}, {\"Date\": \"2020-02-26T00:00:00\", \"Case\": \"Recovered\", \"Count\": 0}, {\"Date\": \"2020-02-27T00:00:00\", \"Case\": \"Recovered\", \"Count\": 0}, {\"Date\": \"2020-02-28T00:00:00\", \"Case\": \"Recovered\", \"Count\": 0}, {\"Date\": \"2020-02-29T00:00:00\", \"Case\": \"Recovered\", \"Count\": 0}, {\"Date\": \"2020-03-01T00:00:00\", \"Case\": \"Recovered\", \"Count\": 0}, {\"Date\": \"2020-03-02T00:00:00\", \"Case\": \"Recovered\", \"Count\": 0}, {\"Date\": \"2020-03-03T00:00:00\", \"Case\": \"Recovered\", \"Count\": 0}, {\"Date\": \"2020-03-04T00:00:00\", \"Case\": \"Recovered\", \"Count\": 0}, {\"Date\": \"2020-03-05T00:00:00\", \"Case\": \"Recovered\", \"Count\": 0}, {\"Date\": \"2020-03-06T00:00:00\", \"Case\": \"Recovered\", \"Count\": 0}, {\"Date\": \"2020-03-07T00:00:00\", \"Case\": \"Recovered\", \"Count\": 0}, {\"Date\": \"2020-03-08T00:00:00\", \"Case\": \"Recovered\", \"Count\": 0}, {\"Date\": \"2020-03-09T00:00:00\", \"Case\": \"Recovered\", \"Count\": 0}, {\"Date\": \"2020-03-10T00:00:00\", \"Case\": \"Recovered\", \"Count\": 8}, {\"Date\": \"2020-03-11T00:00:00\", \"Case\": \"Recovered\", \"Count\": 8}, {\"Date\": \"2020-03-12T00:00:00\", \"Case\": \"Recovered\", \"Count\": 12}, {\"Date\": \"2020-03-13T00:00:00\", \"Case\": \"Recovered\", \"Count\": 12}, {\"Date\": \"2020-03-14T00:00:00\", \"Case\": \"Recovered\", \"Count\": 12}, {\"Date\": \"2020-03-15T00:00:00\", \"Case\": \"Recovered\", \"Count\": 12}, {\"Date\": \"2020-03-16T00:00:00\", \"Case\": \"Recovered\", \"Count\": 17}, {\"Date\": \"2020-01-22T00:00:00\", \"Case\": \"Deaths\", \"Count\": 0}, {\"Date\": \"2020-01-23T00:00:00\", \"Case\": \"Deaths\", \"Count\": 0}, {\"Date\": \"2020-01-24T00:00:00\", \"Case\": \"Deaths\", \"Count\": 0}, {\"Date\": \"2020-01-25T00:00:00\", \"Case\": \"Deaths\", \"Count\": 0}, {\"Date\": \"2020-01-26T00:00:00\", \"Case\": \"Deaths\", \"Count\": 0}, {\"Date\": \"2020-01-27T00:00:00\", \"Case\": \"Deaths\", \"Count\": 0}, {\"Date\": \"2020-01-28T00:00:00\", \"Case\": \"Deaths\", \"Count\": 0}, {\"Date\": \"2020-01-29T00:00:00\", \"Case\": \"Deaths\", \"Count\": 0}, {\"Date\": \"2020-01-30T00:00:00\", \"Case\": \"Deaths\", \"Count\": 0}, {\"Date\": \"2020-01-31T00:00:00\", \"Case\": \"Deaths\", \"Count\": 0}, {\"Date\": \"2020-02-01T00:00:00\", \"Case\": \"Deaths\", \"Count\": 0}, {\"Date\": \"2020-02-02T00:00:00\", \"Case\": \"Deaths\", \"Count\": 0}, {\"Date\": \"2020-02-03T00:00:00\", \"Case\": \"Deaths\", \"Count\": 0}, {\"Date\": \"2020-02-04T00:00:00\", \"Case\": \"Deaths\", \"Count\": 0}, {\"Date\": \"2020-02-05T00:00:00\", \"Case\": \"Deaths\", \"Count\": 0}, {\"Date\": \"2020-02-06T00:00:00\", \"Case\": \"Deaths\", \"Count\": 0}, {\"Date\": \"2020-02-07T00:00:00\", \"Case\": \"Deaths\", \"Count\": 0}, {\"Date\": \"2020-02-08T00:00:00\", \"Case\": \"Deaths\", \"Count\": 0}, {\"Date\": \"2020-02-09T00:00:00\", \"Case\": \"Deaths\", \"Count\": 0}, {\"Date\": \"2020-02-10T00:00:00\", \"Case\": \"Deaths\", \"Count\": 0}, {\"Date\": \"2020-02-11T00:00:00\", \"Case\": \"Deaths\", \"Count\": 0}, {\"Date\": \"2020-02-12T00:00:00\", \"Case\": \"Deaths\", \"Count\": 0}, {\"Date\": \"2020-02-13T00:00:00\", \"Case\": \"Deaths\", \"Count\": 0}, {\"Date\": \"2020-02-14T00:00:00\", \"Case\": \"Deaths\", \"Count\": 0}, {\"Date\": \"2020-02-15T00:00:00\", \"Case\": \"Deaths\", \"Count\": 0}, {\"Date\": \"2020-02-16T00:00:00\", \"Case\": \"Deaths\", \"Count\": 0}, {\"Date\": \"2020-02-17T00:00:00\", \"Case\": \"Deaths\", \"Count\": 0}, {\"Date\": \"2020-02-18T00:00:00\", \"Case\": \"Deaths\", \"Count\": 0}, {\"Date\": \"2020-02-19T00:00:00\", \"Case\": \"Deaths\", \"Count\": 0}, {\"Date\": \"2020-02-20T00:00:00\", \"Case\": \"Deaths\", \"Count\": 0}, {\"Date\": \"2020-02-21T00:00:00\", \"Case\": \"Deaths\", \"Count\": 0}, {\"Date\": \"2020-02-22T00:00:00\", \"Case\": \"Deaths\", \"Count\": 0}, {\"Date\": \"2020-02-23T00:00:00\", \"Case\": \"Deaths\", \"Count\": 0}, {\"Date\": \"2020-02-24T00:00:00\", \"Case\": \"Deaths\", \"Count\": 0}, {\"Date\": \"2020-02-25T00:00:00\", \"Case\": \"Deaths\", \"Count\": 0}, {\"Date\": \"2020-02-26T00:00:00\", \"Case\": \"Deaths\", \"Count\": 0}, {\"Date\": \"2020-02-27T00:00:00\", \"Case\": \"Deaths\", \"Count\": 0}, {\"Date\": \"2020-02-28T00:00:00\", \"Case\": \"Deaths\", \"Count\": 0}, {\"Date\": \"2020-02-29T00:00:00\", \"Case\": \"Deaths\", \"Count\": 0}, {\"Date\": \"2020-03-01T00:00:00\", \"Case\": \"Deaths\", \"Count\": 0}, {\"Date\": \"2020-03-02T00:00:00\", \"Case\": \"Deaths\", \"Count\": 0}, {\"Date\": \"2020-03-03T00:00:00\", \"Case\": \"Deaths\", \"Count\": 0}, {\"Date\": \"2020-03-04T00:00:00\", \"Case\": \"Deaths\", \"Count\": 0}, {\"Date\": \"2020-03-05T00:00:00\", \"Case\": \"Deaths\", \"Count\": 0}, {\"Date\": \"2020-03-06T00:00:00\", \"Case\": \"Deaths\", \"Count\": 0}, {\"Date\": \"2020-03-07T00:00:00\", \"Case\": \"Deaths\", \"Count\": 0}, {\"Date\": \"2020-03-08T00:00:00\", \"Case\": \"Deaths\", \"Count\": 0}, {\"Date\": \"2020-03-09T00:00:00\", \"Case\": \"Deaths\", \"Count\": 0}, {\"Date\": \"2020-03-10T00:00:00\", \"Case\": \"Deaths\", \"Count\": 28}, {\"Date\": \"2020-03-11T00:00:00\", \"Case\": \"Deaths\", \"Count\": 36}, {\"Date\": \"2020-03-12T00:00:00\", \"Case\": \"Deaths\", \"Count\": 40}, {\"Date\": \"2020-03-13T00:00:00\", \"Case\": \"Deaths\", \"Count\": 47}, {\"Date\": \"2020-03-14T00:00:00\", \"Case\": \"Deaths\", \"Count\": 54}, {\"Date\": \"2020-03-15T00:00:00\", \"Case\": \"Deaths\", \"Count\": 63}, {\"Date\": \"2020-03-16T00:00:00\", \"Case\": \"Deaths\", \"Count\": 85}, {\"Date\": \"2020-01-22T00:00:00\", \"Case\": \"Active\", \"Count\": 0}, {\"Date\": \"2020-01-23T00:00:00\", \"Case\": \"Active\", \"Count\": 0}, {\"Date\": \"2020-01-24T00:00:00\", \"Case\": \"Active\", \"Count\": 0}, {\"Date\": \"2020-01-25T00:00:00\", \"Case\": \"Active\", \"Count\": 0}, {\"Date\": \"2020-01-26T00:00:00\", \"Case\": \"Active\", \"Count\": 0}, {\"Date\": \"2020-01-27T00:00:00\", \"Case\": \"Active\", \"Count\": 0}, {\"Date\": \"2020-01-28T00:00:00\", \"Case\": \"Active\", \"Count\": 0}, {\"Date\": \"2020-01-29T00:00:00\", \"Case\": \"Active\", \"Count\": 0}, {\"Date\": \"2020-01-30T00:00:00\", \"Case\": \"Active\", \"Count\": 0}, {\"Date\": \"2020-01-31T00:00:00\", \"Case\": \"Active\", \"Count\": 0}, {\"Date\": \"2020-02-01T00:00:00\", \"Case\": \"Active\", \"Count\": 0}, {\"Date\": \"2020-02-02T00:00:00\", \"Case\": \"Active\", \"Count\": 0}, {\"Date\": \"2020-02-03T00:00:00\", \"Case\": \"Active\", \"Count\": 0}, {\"Date\": \"2020-02-04T00:00:00\", \"Case\": \"Active\", \"Count\": 0}, {\"Date\": \"2020-02-05T00:00:00\", \"Case\": \"Active\", \"Count\": 0}, {\"Date\": \"2020-02-06T00:00:00\", \"Case\": \"Active\", \"Count\": 0}, {\"Date\": \"2020-02-07T00:00:00\", \"Case\": \"Active\", \"Count\": 0}, {\"Date\": \"2020-02-08T00:00:00\", \"Case\": \"Active\", \"Count\": 0}, {\"Date\": \"2020-02-09T00:00:00\", \"Case\": \"Active\", \"Count\": 0}, {\"Date\": \"2020-02-10T00:00:00\", \"Case\": \"Active\", \"Count\": 0}, {\"Date\": \"2020-02-11T00:00:00\", \"Case\": \"Active\", \"Count\": 0}, {\"Date\": \"2020-02-12T00:00:00\", \"Case\": \"Active\", \"Count\": 0}, {\"Date\": \"2020-02-13T00:00:00\", \"Case\": \"Active\", \"Count\": 0}, {\"Date\": \"2020-02-14T00:00:00\", \"Case\": \"Active\", \"Count\": 0}, {\"Date\": \"2020-02-15T00:00:00\", \"Case\": \"Active\", \"Count\": 0}, {\"Date\": \"2020-02-16T00:00:00\", \"Case\": \"Active\", \"Count\": 0}, {\"Date\": \"2020-02-17T00:00:00\", \"Case\": \"Active\", \"Count\": 0}, {\"Date\": \"2020-02-18T00:00:00\", \"Case\": \"Active\", \"Count\": 0}, {\"Date\": \"2020-02-19T00:00:00\", \"Case\": \"Active\", \"Count\": 0}, {\"Date\": \"2020-02-20T00:00:00\", \"Case\": \"Active\", \"Count\": 0}, {\"Date\": \"2020-02-21T00:00:00\", \"Case\": \"Active\", \"Count\": 0}, {\"Date\": \"2020-02-22T00:00:00\", \"Case\": \"Active\", \"Count\": 0}, {\"Date\": \"2020-02-23T00:00:00\", \"Case\": \"Active\", \"Count\": 0}, {\"Date\": \"2020-02-24T00:00:00\", \"Case\": \"Active\", \"Count\": 36}, {\"Date\": \"2020-02-25T00:00:00\", \"Case\": \"Active\", \"Count\": 36}, {\"Date\": \"2020-02-26T00:00:00\", \"Case\": \"Active\", \"Count\": 42}, {\"Date\": \"2020-02-27T00:00:00\", \"Case\": \"Active\", \"Count\": 42}, {\"Date\": \"2020-02-28T00:00:00\", \"Case\": \"Active\", \"Count\": 44}, {\"Date\": \"2020-02-29T00:00:00\", \"Case\": \"Active\", \"Count\": 44}, {\"Date\": \"2020-03-01T00:00:00\", \"Case\": \"Active\", \"Count\": 44}, {\"Date\": \"2020-03-02T00:00:00\", \"Case\": \"Active\", \"Count\": 45}, {\"Date\": \"2020-03-03T00:00:00\", \"Case\": \"Active\", \"Count\": 45}, {\"Date\": \"2020-03-04T00:00:00\", \"Case\": \"Active\", \"Count\": 45}, {\"Date\": \"2020-03-05T00:00:00\", \"Case\": \"Active\", \"Count\": 45}, {\"Date\": \"2020-03-06T00:00:00\", \"Case\": \"Active\", \"Count\": 45}, {\"Date\": \"2020-03-07T00:00:00\", \"Case\": \"Active\", \"Count\": 66}, {\"Date\": \"2020-03-08T00:00:00\", \"Case\": \"Active\", \"Count\": 66}, {\"Date\": \"2020-03-09T00:00:00\", \"Case\": \"Active\", \"Count\": 66}, {\"Date\": \"2020-03-10T00:00:00\", \"Case\": \"Active\", \"Count\": 923}, {\"Date\": \"2020-03-11T00:00:00\", \"Case\": \"Active\", \"Count\": 1237}, {\"Date\": \"2020-03-12T00:00:00\", \"Case\": \"Active\", \"Count\": 1611}, {\"Date\": \"2020-03-13T00:00:00\", \"Case\": \"Active\", \"Count\": 2120}, {\"Date\": \"2020-03-14T00:00:00\", \"Case\": \"Active\", \"Count\": 2661}, {\"Date\": \"2020-03-15T00:00:00\", \"Case\": \"Active\", \"Count\": 3424}, {\"Date\": \"2020-03-16T00:00:00\", \"Case\": \"Active\", \"Count\": 4530}]}}, {\"mode\": \"vega-lite\"});\n",
       "</script>"
      ],
      "text/plain": [
       "alt.Chart(...)"
      ]
     },
     "execution_count": 16,
     "metadata": {},
     "output_type": "execute_result"
    }
   ],
   "source": [
    "cases_over_time('US')"
   ]
  },
  {
   "cell_type": "markdown",
   "metadata": {},
   "source": [
    "### Cases in Italy"
   ]
  },
  {
   "cell_type": "code",
   "execution_count": 17,
   "metadata": {},
   "outputs": [
    {
     "data": {
      "text/html": [
       "\n",
       "<div id=\"altair-viz-b9b20f6fcb9f42eb8f1597475aaf4839\"></div>\n",
       "<script type=\"text/javascript\">\n",
       "  (function(spec, embedOpt){\n",
       "    const outputDiv = document.getElementById(\"altair-viz-b9b20f6fcb9f42eb8f1597475aaf4839\");\n",
       "    const paths = {\n",
       "      \"vega\": \"https://cdn.jsdelivr.net/npm//vega@5?noext\",\n",
       "      \"vega-lib\": \"https://cdn.jsdelivr.net/npm//vega-lib?noext\",\n",
       "      \"vega-lite\": \"https://cdn.jsdelivr.net/npm//vega-lite@4.0.2?noext\",\n",
       "      \"vega-embed\": \"https://cdn.jsdelivr.net/npm//vega-embed@6?noext\",\n",
       "    };\n",
       "\n",
       "    function loadScript(lib) {\n",
       "      return new Promise(function(resolve, reject) {\n",
       "        var s = document.createElement('script');\n",
       "        s.src = paths[lib];\n",
       "        s.async = true;\n",
       "        s.onload = () => resolve(paths[lib]);\n",
       "        s.onerror = () => reject(`Error loading script: ${paths[lib]}`);\n",
       "        document.getElementsByTagName(\"head\")[0].appendChild(s);\n",
       "      });\n",
       "    }\n",
       "\n",
       "    function showError(err) {\n",
       "      outputDiv.innerHTML = `<div class=\"error\" style=\"color:red;\">${err}</div>`;\n",
       "      throw err;\n",
       "    }\n",
       "\n",
       "    function displayChart(vegaEmbed) {\n",
       "      vegaEmbed(outputDiv, spec, embedOpt)\n",
       "        .catch(err => showError(`Javascript Error: ${err.message}<br>This usually means there's a typo in your chart specification. See the javascript console for the full traceback.`));\n",
       "    }\n",
       "\n",
       "    if(typeof define === \"function\" && define.amd) {\n",
       "      requirejs.config({paths});\n",
       "      require([\"vega-embed\"], displayChart, err => showError(`Error loading script: ${err.message}`));\n",
       "    } else if (typeof vegaEmbed === \"function\") {\n",
       "      displayChart(vegaEmbed);\n",
       "    } else {\n",
       "      loadScript(\"vega\")\n",
       "        .then(() => loadScript(\"vega-lite\"))\n",
       "        .then(() => loadScript(\"vega-embed\"))\n",
       "        .catch(showError)\n",
       "        .then(() => displayChart(vegaEmbed));\n",
       "    }\n",
       "  })({\"config\": {\"view\": {\"continuousWidth\": 400, \"continuousHeight\": 300}, \"axis\": {\"grid\": false}}, \"data\": {\"name\": \"data-9090f9668529bbb6a3f9f110f945e2c6\"}, \"mark\": \"area\", \"encoding\": {\"color\": {\"type\": \"nominal\", \"field\": \"Case\"}, \"x\": {\"type\": \"temporal\", \"field\": \"Date\"}, \"y\": {\"type\": \"quantitative\", \"field\": \"Count\"}}, \"title\": \"Covid cases over time Italy\", \"width\": 600, \"$schema\": \"https://vega.github.io/schema/vega-lite/v4.0.2.json\", \"datasets\": {\"data-9090f9668529bbb6a3f9f110f945e2c6\": [{\"Date\": \"2020-01-22T00:00:00\", \"Case\": \"Recovered\", \"Count\": 0}, {\"Date\": \"2020-01-23T00:00:00\", \"Case\": \"Recovered\", \"Count\": 0}, {\"Date\": \"2020-01-24T00:00:00\", \"Case\": \"Recovered\", \"Count\": 0}, {\"Date\": \"2020-01-25T00:00:00\", \"Case\": \"Recovered\", \"Count\": 0}, {\"Date\": \"2020-01-26T00:00:00\", \"Case\": \"Recovered\", \"Count\": 0}, {\"Date\": \"2020-01-27T00:00:00\", \"Case\": \"Recovered\", \"Count\": 0}, {\"Date\": \"2020-01-28T00:00:00\", \"Case\": \"Recovered\", \"Count\": 0}, {\"Date\": \"2020-01-29T00:00:00\", \"Case\": \"Recovered\", \"Count\": 0}, {\"Date\": \"2020-01-30T00:00:00\", \"Case\": \"Recovered\", \"Count\": 0}, {\"Date\": \"2020-01-31T00:00:00\", \"Case\": \"Recovered\", \"Count\": 0}, {\"Date\": \"2020-02-01T00:00:00\", \"Case\": \"Recovered\", \"Count\": 0}, {\"Date\": \"2020-02-02T00:00:00\", \"Case\": \"Recovered\", \"Count\": 0}, {\"Date\": \"2020-02-03T00:00:00\", \"Case\": \"Recovered\", \"Count\": 0}, {\"Date\": \"2020-02-04T00:00:00\", \"Case\": \"Recovered\", \"Count\": 0}, {\"Date\": \"2020-02-05T00:00:00\", \"Case\": \"Recovered\", \"Count\": 0}, {\"Date\": \"2020-02-06T00:00:00\", \"Case\": \"Recovered\", \"Count\": 0}, {\"Date\": \"2020-02-07T00:00:00\", \"Case\": \"Recovered\", \"Count\": 0}, {\"Date\": \"2020-02-08T00:00:00\", \"Case\": \"Recovered\", \"Count\": 0}, {\"Date\": \"2020-02-09T00:00:00\", \"Case\": \"Recovered\", \"Count\": 0}, {\"Date\": \"2020-02-10T00:00:00\", \"Case\": \"Recovered\", \"Count\": 0}, {\"Date\": \"2020-02-11T00:00:00\", \"Case\": \"Recovered\", \"Count\": 0}, {\"Date\": \"2020-02-12T00:00:00\", \"Case\": \"Recovered\", \"Count\": 0}, {\"Date\": \"2020-02-13T00:00:00\", \"Case\": \"Recovered\", \"Count\": 0}, {\"Date\": \"2020-02-14T00:00:00\", \"Case\": \"Recovered\", \"Count\": 0}, {\"Date\": \"2020-02-15T00:00:00\", \"Case\": \"Recovered\", \"Count\": 0}, {\"Date\": \"2020-02-16T00:00:00\", \"Case\": \"Recovered\", \"Count\": 0}, {\"Date\": \"2020-02-17T00:00:00\", \"Case\": \"Recovered\", \"Count\": 0}, {\"Date\": \"2020-02-18T00:00:00\", \"Case\": \"Recovered\", \"Count\": 0}, {\"Date\": \"2020-02-19T00:00:00\", \"Case\": \"Recovered\", \"Count\": 0}, {\"Date\": \"2020-02-20T00:00:00\", \"Case\": \"Recovered\", \"Count\": 0}, {\"Date\": \"2020-02-21T00:00:00\", \"Case\": \"Recovered\", \"Count\": 0}, {\"Date\": \"2020-02-22T00:00:00\", \"Case\": \"Recovered\", \"Count\": 1}, {\"Date\": \"2020-02-23T00:00:00\", \"Case\": \"Recovered\", \"Count\": 2}, {\"Date\": \"2020-02-24T00:00:00\", \"Case\": \"Recovered\", \"Count\": 1}, {\"Date\": \"2020-02-25T00:00:00\", \"Case\": \"Recovered\", \"Count\": 1}, {\"Date\": \"2020-02-26T00:00:00\", \"Case\": \"Recovered\", \"Count\": 3}, {\"Date\": \"2020-02-27T00:00:00\", \"Case\": \"Recovered\", \"Count\": 45}, {\"Date\": \"2020-02-28T00:00:00\", \"Case\": \"Recovered\", \"Count\": 46}, {\"Date\": \"2020-02-29T00:00:00\", \"Case\": \"Recovered\", \"Count\": 46}, {\"Date\": \"2020-03-01T00:00:00\", \"Case\": \"Recovered\", \"Count\": 83}, {\"Date\": \"2020-03-02T00:00:00\", \"Case\": \"Recovered\", \"Count\": 149}, {\"Date\": \"2020-03-03T00:00:00\", \"Case\": \"Recovered\", \"Count\": 160}, {\"Date\": \"2020-03-04T00:00:00\", \"Case\": \"Recovered\", \"Count\": 276}, {\"Date\": \"2020-03-05T00:00:00\", \"Case\": \"Recovered\", \"Count\": 414}, {\"Date\": \"2020-03-06T00:00:00\", \"Case\": \"Recovered\", \"Count\": 523}, {\"Date\": \"2020-03-07T00:00:00\", \"Case\": \"Recovered\", \"Count\": 589}, {\"Date\": \"2020-03-08T00:00:00\", \"Case\": \"Recovered\", \"Count\": 622}, {\"Date\": \"2020-03-09T00:00:00\", \"Case\": \"Recovered\", \"Count\": 724}, {\"Date\": \"2020-03-10T00:00:00\", \"Case\": \"Recovered\", \"Count\": 724}, {\"Date\": \"2020-03-11T00:00:00\", \"Case\": \"Recovered\", \"Count\": 1045}, {\"Date\": \"2020-03-12T00:00:00\", \"Case\": \"Recovered\", \"Count\": 1045}, {\"Date\": \"2020-03-13T00:00:00\", \"Case\": \"Recovered\", \"Count\": 1439}, {\"Date\": \"2020-03-14T00:00:00\", \"Case\": \"Recovered\", \"Count\": 1966}, {\"Date\": \"2020-03-15T00:00:00\", \"Case\": \"Recovered\", \"Count\": 2335}, {\"Date\": \"2020-03-16T00:00:00\", \"Case\": \"Recovered\", \"Count\": 2749}, {\"Date\": \"2020-01-22T00:00:00\", \"Case\": \"Deaths\", \"Count\": 0}, {\"Date\": \"2020-01-23T00:00:00\", \"Case\": \"Deaths\", \"Count\": 0}, {\"Date\": \"2020-01-24T00:00:00\", \"Case\": \"Deaths\", \"Count\": 0}, {\"Date\": \"2020-01-25T00:00:00\", \"Case\": \"Deaths\", \"Count\": 0}, {\"Date\": \"2020-01-26T00:00:00\", \"Case\": \"Deaths\", \"Count\": 0}, {\"Date\": \"2020-01-27T00:00:00\", \"Case\": \"Deaths\", \"Count\": 0}, {\"Date\": \"2020-01-28T00:00:00\", \"Case\": \"Deaths\", \"Count\": 0}, {\"Date\": \"2020-01-29T00:00:00\", \"Case\": \"Deaths\", \"Count\": 0}, {\"Date\": \"2020-01-30T00:00:00\", \"Case\": \"Deaths\", \"Count\": 0}, {\"Date\": \"2020-01-31T00:00:00\", \"Case\": \"Deaths\", \"Count\": 0}, {\"Date\": \"2020-02-01T00:00:00\", \"Case\": \"Deaths\", \"Count\": 0}, {\"Date\": \"2020-02-02T00:00:00\", \"Case\": \"Deaths\", \"Count\": 0}, {\"Date\": \"2020-02-03T00:00:00\", \"Case\": \"Deaths\", \"Count\": 0}, {\"Date\": \"2020-02-04T00:00:00\", \"Case\": \"Deaths\", \"Count\": 0}, {\"Date\": \"2020-02-05T00:00:00\", \"Case\": \"Deaths\", \"Count\": 0}, {\"Date\": \"2020-02-06T00:00:00\", \"Case\": \"Deaths\", \"Count\": 0}, {\"Date\": \"2020-02-07T00:00:00\", \"Case\": \"Deaths\", \"Count\": 0}, {\"Date\": \"2020-02-08T00:00:00\", \"Case\": \"Deaths\", \"Count\": 0}, {\"Date\": \"2020-02-09T00:00:00\", \"Case\": \"Deaths\", \"Count\": 0}, {\"Date\": \"2020-02-10T00:00:00\", \"Case\": \"Deaths\", \"Count\": 0}, {\"Date\": \"2020-02-11T00:00:00\", \"Case\": \"Deaths\", \"Count\": 0}, {\"Date\": \"2020-02-12T00:00:00\", \"Case\": \"Deaths\", \"Count\": 0}, {\"Date\": \"2020-02-13T00:00:00\", \"Case\": \"Deaths\", \"Count\": 0}, {\"Date\": \"2020-02-14T00:00:00\", \"Case\": \"Deaths\", \"Count\": 0}, {\"Date\": \"2020-02-15T00:00:00\", \"Case\": \"Deaths\", \"Count\": 0}, {\"Date\": \"2020-02-16T00:00:00\", \"Case\": \"Deaths\", \"Count\": 0}, {\"Date\": \"2020-02-17T00:00:00\", \"Case\": \"Deaths\", \"Count\": 0}, {\"Date\": \"2020-02-18T00:00:00\", \"Case\": \"Deaths\", \"Count\": 0}, {\"Date\": \"2020-02-19T00:00:00\", \"Case\": \"Deaths\", \"Count\": 0}, {\"Date\": \"2020-02-20T00:00:00\", \"Case\": \"Deaths\", \"Count\": 0}, {\"Date\": \"2020-02-21T00:00:00\", \"Case\": \"Deaths\", \"Count\": 1}, {\"Date\": \"2020-02-22T00:00:00\", \"Case\": \"Deaths\", \"Count\": 2}, {\"Date\": \"2020-02-23T00:00:00\", \"Case\": \"Deaths\", \"Count\": 3}, {\"Date\": \"2020-02-24T00:00:00\", \"Case\": \"Deaths\", \"Count\": 7}, {\"Date\": \"2020-02-25T00:00:00\", \"Case\": \"Deaths\", \"Count\": 10}, {\"Date\": \"2020-02-26T00:00:00\", \"Case\": \"Deaths\", \"Count\": 12}, {\"Date\": \"2020-02-27T00:00:00\", \"Case\": \"Deaths\", \"Count\": 17}, {\"Date\": \"2020-02-28T00:00:00\", \"Case\": \"Deaths\", \"Count\": 21}, {\"Date\": \"2020-02-29T00:00:00\", \"Case\": \"Deaths\", \"Count\": 29}, {\"Date\": \"2020-03-01T00:00:00\", \"Case\": \"Deaths\", \"Count\": 34}, {\"Date\": \"2020-03-02T00:00:00\", \"Case\": \"Deaths\", \"Count\": 52}, {\"Date\": \"2020-03-03T00:00:00\", \"Case\": \"Deaths\", \"Count\": 79}, {\"Date\": \"2020-03-04T00:00:00\", \"Case\": \"Deaths\", \"Count\": 107}, {\"Date\": \"2020-03-05T00:00:00\", \"Case\": \"Deaths\", \"Count\": 148}, {\"Date\": \"2020-03-06T00:00:00\", \"Case\": \"Deaths\", \"Count\": 197}, {\"Date\": \"2020-03-07T00:00:00\", \"Case\": \"Deaths\", \"Count\": 233}, {\"Date\": \"2020-03-08T00:00:00\", \"Case\": \"Deaths\", \"Count\": 366}, {\"Date\": \"2020-03-09T00:00:00\", \"Case\": \"Deaths\", \"Count\": 463}, {\"Date\": \"2020-03-10T00:00:00\", \"Case\": \"Deaths\", \"Count\": 631}, {\"Date\": \"2020-03-11T00:00:00\", \"Case\": \"Deaths\", \"Count\": 827}, {\"Date\": \"2020-03-12T00:00:00\", \"Case\": \"Deaths\", \"Count\": 827}, {\"Date\": \"2020-03-13T00:00:00\", \"Case\": \"Deaths\", \"Count\": 1266}, {\"Date\": \"2020-03-14T00:00:00\", \"Case\": \"Deaths\", \"Count\": 1441}, {\"Date\": \"2020-03-15T00:00:00\", \"Case\": \"Deaths\", \"Count\": 1809}, {\"Date\": \"2020-03-16T00:00:00\", \"Case\": \"Deaths\", \"Count\": 2158}, {\"Date\": \"2020-01-22T00:00:00\", \"Case\": \"Active\", \"Count\": 0}, {\"Date\": \"2020-01-23T00:00:00\", \"Case\": \"Active\", \"Count\": 0}, {\"Date\": \"2020-01-24T00:00:00\", \"Case\": \"Active\", \"Count\": 0}, {\"Date\": \"2020-01-25T00:00:00\", \"Case\": \"Active\", \"Count\": 0}, {\"Date\": \"2020-01-26T00:00:00\", \"Case\": \"Active\", \"Count\": 0}, {\"Date\": \"2020-01-27T00:00:00\", \"Case\": \"Active\", \"Count\": 0}, {\"Date\": \"2020-01-28T00:00:00\", \"Case\": \"Active\", \"Count\": 0}, {\"Date\": \"2020-01-29T00:00:00\", \"Case\": \"Active\", \"Count\": 0}, {\"Date\": \"2020-01-30T00:00:00\", \"Case\": \"Active\", \"Count\": 0}, {\"Date\": \"2020-01-31T00:00:00\", \"Case\": \"Active\", \"Count\": 2}, {\"Date\": \"2020-02-01T00:00:00\", \"Case\": \"Active\", \"Count\": 2}, {\"Date\": \"2020-02-02T00:00:00\", \"Case\": \"Active\", \"Count\": 2}, {\"Date\": \"2020-02-03T00:00:00\", \"Case\": \"Active\", \"Count\": 2}, {\"Date\": \"2020-02-04T00:00:00\", \"Case\": \"Active\", \"Count\": 2}, {\"Date\": \"2020-02-05T00:00:00\", \"Case\": \"Active\", \"Count\": 2}, {\"Date\": \"2020-02-06T00:00:00\", \"Case\": \"Active\", \"Count\": 2}, {\"Date\": \"2020-02-07T00:00:00\", \"Case\": \"Active\", \"Count\": 3}, {\"Date\": \"2020-02-08T00:00:00\", \"Case\": \"Active\", \"Count\": 3}, {\"Date\": \"2020-02-09T00:00:00\", \"Case\": \"Active\", \"Count\": 3}, {\"Date\": \"2020-02-10T00:00:00\", \"Case\": \"Active\", \"Count\": 3}, {\"Date\": \"2020-02-11T00:00:00\", \"Case\": \"Active\", \"Count\": 3}, {\"Date\": \"2020-02-12T00:00:00\", \"Case\": \"Active\", \"Count\": 3}, {\"Date\": \"2020-02-13T00:00:00\", \"Case\": \"Active\", \"Count\": 3}, {\"Date\": \"2020-02-14T00:00:00\", \"Case\": \"Active\", \"Count\": 3}, {\"Date\": \"2020-02-15T00:00:00\", \"Case\": \"Active\", \"Count\": 3}, {\"Date\": \"2020-02-16T00:00:00\", \"Case\": \"Active\", \"Count\": 3}, {\"Date\": \"2020-02-17T00:00:00\", \"Case\": \"Active\", \"Count\": 3}, {\"Date\": \"2020-02-18T00:00:00\", \"Case\": \"Active\", \"Count\": 3}, {\"Date\": \"2020-02-19T00:00:00\", \"Case\": \"Active\", \"Count\": 3}, {\"Date\": \"2020-02-20T00:00:00\", \"Case\": \"Active\", \"Count\": 3}, {\"Date\": \"2020-02-21T00:00:00\", \"Case\": \"Active\", \"Count\": 19}, {\"Date\": \"2020-02-22T00:00:00\", \"Case\": \"Active\", \"Count\": 59}, {\"Date\": \"2020-02-23T00:00:00\", \"Case\": \"Active\", \"Count\": 150}, {\"Date\": \"2020-02-24T00:00:00\", \"Case\": \"Active\", \"Count\": 221}, {\"Date\": \"2020-02-25T00:00:00\", \"Case\": \"Active\", \"Count\": 311}, {\"Date\": \"2020-02-26T00:00:00\", \"Case\": \"Active\", \"Count\": 438}, {\"Date\": \"2020-02-27T00:00:00\", \"Case\": \"Active\", \"Count\": 593}, {\"Date\": \"2020-02-28T00:00:00\", \"Case\": \"Active\", \"Count\": 821}, {\"Date\": \"2020-02-29T00:00:00\", \"Case\": \"Active\", \"Count\": 1053}, {\"Date\": \"2020-03-01T00:00:00\", \"Case\": \"Active\", \"Count\": 1577}, {\"Date\": \"2020-03-02T00:00:00\", \"Case\": \"Active\", \"Count\": 1835}, {\"Date\": \"2020-03-03T00:00:00\", \"Case\": \"Active\", \"Count\": 2263}, {\"Date\": \"2020-03-04T00:00:00\", \"Case\": \"Active\", \"Count\": 2706}, {\"Date\": \"2020-03-05T00:00:00\", \"Case\": \"Active\", \"Count\": 3296}, {\"Date\": \"2020-03-06T00:00:00\", \"Case\": \"Active\", \"Count\": 3916}, {\"Date\": \"2020-03-07T00:00:00\", \"Case\": \"Active\", \"Count\": 5061}, {\"Date\": \"2020-03-08T00:00:00\", \"Case\": \"Active\", \"Count\": 6387}, {\"Date\": \"2020-03-09T00:00:00\", \"Case\": \"Active\", \"Count\": 7985}, {\"Date\": \"2020-03-10T00:00:00\", \"Case\": \"Active\", \"Count\": 8794}, {\"Date\": \"2020-03-11T00:00:00\", \"Case\": \"Active\", \"Count\": 10590}, {\"Date\": \"2020-03-12T00:00:00\", \"Case\": \"Active\", \"Count\": 10590}, {\"Date\": \"2020-03-13T00:00:00\", \"Case\": \"Active\", \"Count\": 14955}, {\"Date\": \"2020-03-14T00:00:00\", \"Case\": \"Active\", \"Count\": 17750}, {\"Date\": \"2020-03-15T00:00:00\", \"Case\": \"Active\", \"Count\": 20603}, {\"Date\": \"2020-03-16T00:00:00\", \"Case\": \"Active\", \"Count\": 23073}]}}, {\"mode\": \"vega-lite\"});\n",
       "</script>"
      ],
      "text/plain": [
       "alt.Chart(...)"
      ]
     },
     "execution_count": 17,
     "metadata": {},
     "output_type": "execute_result"
    }
   ],
   "source": [
    "cases_over_time('Italy')"
   ]
  },
  {
   "cell_type": "markdown",
   "metadata": {},
   "source": [
    "### Cases in the United Kingdom"
   ]
  },
  {
   "cell_type": "code",
   "execution_count": 18,
   "metadata": {},
   "outputs": [
    {
     "data": {
      "text/html": [
       "\n",
       "<div id=\"altair-viz-77811afb931a4c16868bd378c09a88c9\"></div>\n",
       "<script type=\"text/javascript\">\n",
       "  (function(spec, embedOpt){\n",
       "    const outputDiv = document.getElementById(\"altair-viz-77811afb931a4c16868bd378c09a88c9\");\n",
       "    const paths = {\n",
       "      \"vega\": \"https://cdn.jsdelivr.net/npm//vega@5?noext\",\n",
       "      \"vega-lib\": \"https://cdn.jsdelivr.net/npm//vega-lib?noext\",\n",
       "      \"vega-lite\": \"https://cdn.jsdelivr.net/npm//vega-lite@4.0.2?noext\",\n",
       "      \"vega-embed\": \"https://cdn.jsdelivr.net/npm//vega-embed@6?noext\",\n",
       "    };\n",
       "\n",
       "    function loadScript(lib) {\n",
       "      return new Promise(function(resolve, reject) {\n",
       "        var s = document.createElement('script');\n",
       "        s.src = paths[lib];\n",
       "        s.async = true;\n",
       "        s.onload = () => resolve(paths[lib]);\n",
       "        s.onerror = () => reject(`Error loading script: ${paths[lib]}`);\n",
       "        document.getElementsByTagName(\"head\")[0].appendChild(s);\n",
       "      });\n",
       "    }\n",
       "\n",
       "    function showError(err) {\n",
       "      outputDiv.innerHTML = `<div class=\"error\" style=\"color:red;\">${err}</div>`;\n",
       "      throw err;\n",
       "    }\n",
       "\n",
       "    function displayChart(vegaEmbed) {\n",
       "      vegaEmbed(outputDiv, spec, embedOpt)\n",
       "        .catch(err => showError(`Javascript Error: ${err.message}<br>This usually means there's a typo in your chart specification. See the javascript console for the full traceback.`));\n",
       "    }\n",
       "\n",
       "    if(typeof define === \"function\" && define.amd) {\n",
       "      requirejs.config({paths});\n",
       "      require([\"vega-embed\"], displayChart, err => showError(`Error loading script: ${err.message}`));\n",
       "    } else if (typeof vegaEmbed === \"function\") {\n",
       "      displayChart(vegaEmbed);\n",
       "    } else {\n",
       "      loadScript(\"vega\")\n",
       "        .then(() => loadScript(\"vega-lite\"))\n",
       "        .then(() => loadScript(\"vega-embed\"))\n",
       "        .catch(showError)\n",
       "        .then(() => displayChart(vegaEmbed));\n",
       "    }\n",
       "  })({\"config\": {\"view\": {\"continuousWidth\": 400, \"continuousHeight\": 300}, \"axis\": {\"grid\": false}}, \"data\": {\"name\": \"data-229156e4155ded392cfb373c9c9624b3\"}, \"mark\": \"area\", \"encoding\": {\"color\": {\"type\": \"nominal\", \"field\": \"Case\"}, \"x\": {\"type\": \"temporal\", \"field\": \"Date\"}, \"y\": {\"type\": \"quantitative\", \"field\": \"Count\"}}, \"title\": \"Covid cases over time United Kingdom\", \"width\": 600, \"$schema\": \"https://vega.github.io/schema/vega-lite/v4.0.2.json\", \"datasets\": {\"data-229156e4155ded392cfb373c9c9624b3\": [{\"Date\": \"2020-01-22T00:00:00\", \"Case\": \"Recovered\", \"Count\": 0}, {\"Date\": \"2020-01-23T00:00:00\", \"Case\": \"Recovered\", \"Count\": 0}, {\"Date\": \"2020-01-24T00:00:00\", \"Case\": \"Recovered\", \"Count\": 0}, {\"Date\": \"2020-01-25T00:00:00\", \"Case\": \"Recovered\", \"Count\": 0}, {\"Date\": \"2020-01-26T00:00:00\", \"Case\": \"Recovered\", \"Count\": 0}, {\"Date\": \"2020-01-27T00:00:00\", \"Case\": \"Recovered\", \"Count\": 0}, {\"Date\": \"2020-01-28T00:00:00\", \"Case\": \"Recovered\", \"Count\": 0}, {\"Date\": \"2020-01-29T00:00:00\", \"Case\": \"Recovered\", \"Count\": 0}, {\"Date\": \"2020-01-30T00:00:00\", \"Case\": \"Recovered\", \"Count\": 0}, {\"Date\": \"2020-01-31T00:00:00\", \"Case\": \"Recovered\", \"Count\": 0}, {\"Date\": \"2020-02-01T00:00:00\", \"Case\": \"Recovered\", \"Count\": 0}, {\"Date\": \"2020-02-02T00:00:00\", \"Case\": \"Recovered\", \"Count\": 0}, {\"Date\": \"2020-02-03T00:00:00\", \"Case\": \"Recovered\", \"Count\": 0}, {\"Date\": \"2020-02-04T00:00:00\", \"Case\": \"Recovered\", \"Count\": 0}, {\"Date\": \"2020-02-05T00:00:00\", \"Case\": \"Recovered\", \"Count\": 0}, {\"Date\": \"2020-02-06T00:00:00\", \"Case\": \"Recovered\", \"Count\": 0}, {\"Date\": \"2020-02-07T00:00:00\", \"Case\": \"Recovered\", \"Count\": 0}, {\"Date\": \"2020-02-08T00:00:00\", \"Case\": \"Recovered\", \"Count\": 0}, {\"Date\": \"2020-02-09T00:00:00\", \"Case\": \"Recovered\", \"Count\": 0}, {\"Date\": \"2020-02-10T00:00:00\", \"Case\": \"Recovered\", \"Count\": 0}, {\"Date\": \"2020-02-11T00:00:00\", \"Case\": \"Recovered\", \"Count\": 0}, {\"Date\": \"2020-02-12T00:00:00\", \"Case\": \"Recovered\", \"Count\": 1}, {\"Date\": \"2020-02-13T00:00:00\", \"Case\": \"Recovered\", \"Count\": 1}, {\"Date\": \"2020-02-14T00:00:00\", \"Case\": \"Recovered\", \"Count\": 1}, {\"Date\": \"2020-02-15T00:00:00\", \"Case\": \"Recovered\", \"Count\": 1}, {\"Date\": \"2020-02-16T00:00:00\", \"Case\": \"Recovered\", \"Count\": 8}, {\"Date\": \"2020-02-17T00:00:00\", \"Case\": \"Recovered\", \"Count\": 8}, {\"Date\": \"2020-02-18T00:00:00\", \"Case\": \"Recovered\", \"Count\": 8}, {\"Date\": \"2020-02-19T00:00:00\", \"Case\": \"Recovered\", \"Count\": 8}, {\"Date\": \"2020-02-20T00:00:00\", \"Case\": \"Recovered\", \"Count\": 8}, {\"Date\": \"2020-02-21T00:00:00\", \"Case\": \"Recovered\", \"Count\": 8}, {\"Date\": \"2020-02-22T00:00:00\", \"Case\": \"Recovered\", \"Count\": 8}, {\"Date\": \"2020-02-23T00:00:00\", \"Case\": \"Recovered\", \"Count\": 8}, {\"Date\": \"2020-02-24T00:00:00\", \"Case\": \"Recovered\", \"Count\": 8}, {\"Date\": \"2020-02-25T00:00:00\", \"Case\": \"Recovered\", \"Count\": 8}, {\"Date\": \"2020-02-26T00:00:00\", \"Case\": \"Recovered\", \"Count\": 8}, {\"Date\": \"2020-02-27T00:00:00\", \"Case\": \"Recovered\", \"Count\": 8}, {\"Date\": \"2020-02-28T00:00:00\", \"Case\": \"Recovered\", \"Count\": 8}, {\"Date\": \"2020-02-29T00:00:00\", \"Case\": \"Recovered\", \"Count\": 8}, {\"Date\": \"2020-03-01T00:00:00\", \"Case\": \"Recovered\", \"Count\": 8}, {\"Date\": \"2020-03-02T00:00:00\", \"Case\": \"Recovered\", \"Count\": 8}, {\"Date\": \"2020-03-03T00:00:00\", \"Case\": \"Recovered\", \"Count\": 8}, {\"Date\": \"2020-03-04T00:00:00\", \"Case\": \"Recovered\", \"Count\": 8}, {\"Date\": \"2020-03-05T00:00:00\", \"Case\": \"Recovered\", \"Count\": 8}, {\"Date\": \"2020-03-06T00:00:00\", \"Case\": \"Recovered\", \"Count\": 8}, {\"Date\": \"2020-03-07T00:00:00\", \"Case\": \"Recovered\", \"Count\": 18}, {\"Date\": \"2020-03-08T00:00:00\", \"Case\": \"Recovered\", \"Count\": 18}, {\"Date\": \"2020-03-09T00:00:00\", \"Case\": \"Recovered\", \"Count\": 18}, {\"Date\": \"2020-03-10T00:00:00\", \"Case\": \"Recovered\", \"Count\": 19}, {\"Date\": \"2020-03-11T00:00:00\", \"Case\": \"Recovered\", \"Count\": 19}, {\"Date\": \"2020-03-12T00:00:00\", \"Case\": \"Recovered\", \"Count\": 19}, {\"Date\": \"2020-03-13T00:00:00\", \"Case\": \"Recovered\", \"Count\": 19}, {\"Date\": \"2020-03-14T00:00:00\", \"Case\": \"Recovered\", \"Count\": 19}, {\"Date\": \"2020-03-15T00:00:00\", \"Case\": \"Recovered\", \"Count\": 19}, {\"Date\": \"2020-03-16T00:00:00\", \"Case\": \"Recovered\", \"Count\": 21}, {\"Date\": \"2020-01-22T00:00:00\", \"Case\": \"Deaths\", \"Count\": 0}, {\"Date\": \"2020-01-23T00:00:00\", \"Case\": \"Deaths\", \"Count\": 0}, {\"Date\": \"2020-01-24T00:00:00\", \"Case\": \"Deaths\", \"Count\": 0}, {\"Date\": \"2020-01-25T00:00:00\", \"Case\": \"Deaths\", \"Count\": 0}, {\"Date\": \"2020-01-26T00:00:00\", \"Case\": \"Deaths\", \"Count\": 0}, {\"Date\": \"2020-01-27T00:00:00\", \"Case\": \"Deaths\", \"Count\": 0}, {\"Date\": \"2020-01-28T00:00:00\", \"Case\": \"Deaths\", \"Count\": 0}, {\"Date\": \"2020-01-29T00:00:00\", \"Case\": \"Deaths\", \"Count\": 0}, {\"Date\": \"2020-01-30T00:00:00\", \"Case\": \"Deaths\", \"Count\": 0}, {\"Date\": \"2020-01-31T00:00:00\", \"Case\": \"Deaths\", \"Count\": 0}, {\"Date\": \"2020-02-01T00:00:00\", \"Case\": \"Deaths\", \"Count\": 0}, {\"Date\": \"2020-02-02T00:00:00\", \"Case\": \"Deaths\", \"Count\": 0}, {\"Date\": \"2020-02-03T00:00:00\", \"Case\": \"Deaths\", \"Count\": 0}, {\"Date\": \"2020-02-04T00:00:00\", \"Case\": \"Deaths\", \"Count\": 0}, {\"Date\": \"2020-02-05T00:00:00\", \"Case\": \"Deaths\", \"Count\": 0}, {\"Date\": \"2020-02-06T00:00:00\", \"Case\": \"Deaths\", \"Count\": 0}, {\"Date\": \"2020-02-07T00:00:00\", \"Case\": \"Deaths\", \"Count\": 0}, {\"Date\": \"2020-02-08T00:00:00\", \"Case\": \"Deaths\", \"Count\": 0}, {\"Date\": \"2020-02-09T00:00:00\", \"Case\": \"Deaths\", \"Count\": 0}, {\"Date\": \"2020-02-10T00:00:00\", \"Case\": \"Deaths\", \"Count\": 0}, {\"Date\": \"2020-02-11T00:00:00\", \"Case\": \"Deaths\", \"Count\": 0}, {\"Date\": \"2020-02-12T00:00:00\", \"Case\": \"Deaths\", \"Count\": 0}, {\"Date\": \"2020-02-13T00:00:00\", \"Case\": \"Deaths\", \"Count\": 0}, {\"Date\": \"2020-02-14T00:00:00\", \"Case\": \"Deaths\", \"Count\": 0}, {\"Date\": \"2020-02-15T00:00:00\", \"Case\": \"Deaths\", \"Count\": 0}, {\"Date\": \"2020-02-16T00:00:00\", \"Case\": \"Deaths\", \"Count\": 0}, {\"Date\": \"2020-02-17T00:00:00\", \"Case\": \"Deaths\", \"Count\": 0}, {\"Date\": \"2020-02-18T00:00:00\", \"Case\": \"Deaths\", \"Count\": 0}, {\"Date\": \"2020-02-19T00:00:00\", \"Case\": \"Deaths\", \"Count\": 0}, {\"Date\": \"2020-02-20T00:00:00\", \"Case\": \"Deaths\", \"Count\": 0}, {\"Date\": \"2020-02-21T00:00:00\", \"Case\": \"Deaths\", \"Count\": 0}, {\"Date\": \"2020-02-22T00:00:00\", \"Case\": \"Deaths\", \"Count\": 0}, {\"Date\": \"2020-02-23T00:00:00\", \"Case\": \"Deaths\", \"Count\": 0}, {\"Date\": \"2020-02-24T00:00:00\", \"Case\": \"Deaths\", \"Count\": 0}, {\"Date\": \"2020-02-25T00:00:00\", \"Case\": \"Deaths\", \"Count\": 0}, {\"Date\": \"2020-02-26T00:00:00\", \"Case\": \"Deaths\", \"Count\": 0}, {\"Date\": \"2020-02-27T00:00:00\", \"Case\": \"Deaths\", \"Count\": 0}, {\"Date\": \"2020-02-28T00:00:00\", \"Case\": \"Deaths\", \"Count\": 0}, {\"Date\": \"2020-02-29T00:00:00\", \"Case\": \"Deaths\", \"Count\": 0}, {\"Date\": \"2020-03-01T00:00:00\", \"Case\": \"Deaths\", \"Count\": 0}, {\"Date\": \"2020-03-02T00:00:00\", \"Case\": \"Deaths\", \"Count\": 0}, {\"Date\": \"2020-03-03T00:00:00\", \"Case\": \"Deaths\", \"Count\": 0}, {\"Date\": \"2020-03-04T00:00:00\", \"Case\": \"Deaths\", \"Count\": 0}, {\"Date\": \"2020-03-05T00:00:00\", \"Case\": \"Deaths\", \"Count\": 1}, {\"Date\": \"2020-03-06T00:00:00\", \"Case\": \"Deaths\", \"Count\": 2}, {\"Date\": \"2020-03-07T00:00:00\", \"Case\": \"Deaths\", \"Count\": 2}, {\"Date\": \"2020-03-08T00:00:00\", \"Case\": \"Deaths\", \"Count\": 3}, {\"Date\": \"2020-03-09T00:00:00\", \"Case\": \"Deaths\", \"Count\": 4}, {\"Date\": \"2020-03-10T00:00:00\", \"Case\": \"Deaths\", \"Count\": 6}, {\"Date\": \"2020-03-11T00:00:00\", \"Case\": \"Deaths\", \"Count\": 8}, {\"Date\": \"2020-03-12T00:00:00\", \"Case\": \"Deaths\", \"Count\": 8}, {\"Date\": \"2020-03-13T00:00:00\", \"Case\": \"Deaths\", \"Count\": 8}, {\"Date\": \"2020-03-14T00:00:00\", \"Case\": \"Deaths\", \"Count\": 21}, {\"Date\": \"2020-03-15T00:00:00\", \"Case\": \"Deaths\", \"Count\": 21}, {\"Date\": \"2020-03-16T00:00:00\", \"Case\": \"Deaths\", \"Count\": 56}, {\"Date\": \"2020-01-22T00:00:00\", \"Case\": \"Active\", \"Count\": 0}, {\"Date\": \"2020-01-23T00:00:00\", \"Case\": \"Active\", \"Count\": 0}, {\"Date\": \"2020-01-24T00:00:00\", \"Case\": \"Active\", \"Count\": 0}, {\"Date\": \"2020-01-25T00:00:00\", \"Case\": \"Active\", \"Count\": 0}, {\"Date\": \"2020-01-26T00:00:00\", \"Case\": \"Active\", \"Count\": 0}, {\"Date\": \"2020-01-27T00:00:00\", \"Case\": \"Active\", \"Count\": 0}, {\"Date\": \"2020-01-28T00:00:00\", \"Case\": \"Active\", \"Count\": 0}, {\"Date\": \"2020-01-29T00:00:00\", \"Case\": \"Active\", \"Count\": 0}, {\"Date\": \"2020-01-30T00:00:00\", \"Case\": \"Active\", \"Count\": 0}, {\"Date\": \"2020-01-31T00:00:00\", \"Case\": \"Active\", \"Count\": 2}, {\"Date\": \"2020-02-01T00:00:00\", \"Case\": \"Active\", \"Count\": 2}, {\"Date\": \"2020-02-02T00:00:00\", \"Case\": \"Active\", \"Count\": 2}, {\"Date\": \"2020-02-03T00:00:00\", \"Case\": \"Active\", \"Count\": 2}, {\"Date\": \"2020-02-04T00:00:00\", \"Case\": \"Active\", \"Count\": 2}, {\"Date\": \"2020-02-05T00:00:00\", \"Case\": \"Active\", \"Count\": 2}, {\"Date\": \"2020-02-06T00:00:00\", \"Case\": \"Active\", \"Count\": 2}, {\"Date\": \"2020-02-07T00:00:00\", \"Case\": \"Active\", \"Count\": 3}, {\"Date\": \"2020-02-08T00:00:00\", \"Case\": \"Active\", \"Count\": 3}, {\"Date\": \"2020-02-09T00:00:00\", \"Case\": \"Active\", \"Count\": 3}, {\"Date\": \"2020-02-10T00:00:00\", \"Case\": \"Active\", \"Count\": 8}, {\"Date\": \"2020-02-11T00:00:00\", \"Case\": \"Active\", \"Count\": 8}, {\"Date\": \"2020-02-12T00:00:00\", \"Case\": \"Active\", \"Count\": 8}, {\"Date\": \"2020-02-13T00:00:00\", \"Case\": \"Active\", \"Count\": 8}, {\"Date\": \"2020-02-14T00:00:00\", \"Case\": \"Active\", \"Count\": 8}, {\"Date\": \"2020-02-15T00:00:00\", \"Case\": \"Active\", \"Count\": 8}, {\"Date\": \"2020-02-16T00:00:00\", \"Case\": \"Active\", \"Count\": 1}, {\"Date\": \"2020-02-17T00:00:00\", \"Case\": \"Active\", \"Count\": 1}, {\"Date\": \"2020-02-18T00:00:00\", \"Case\": \"Active\", \"Count\": 1}, {\"Date\": \"2020-02-19T00:00:00\", \"Case\": \"Active\", \"Count\": 1}, {\"Date\": \"2020-02-20T00:00:00\", \"Case\": \"Active\", \"Count\": 1}, {\"Date\": \"2020-02-21T00:00:00\", \"Case\": \"Active\", \"Count\": 1}, {\"Date\": \"2020-02-22T00:00:00\", \"Case\": \"Active\", \"Count\": 1}, {\"Date\": \"2020-02-23T00:00:00\", \"Case\": \"Active\", \"Count\": 1}, {\"Date\": \"2020-02-24T00:00:00\", \"Case\": \"Active\", \"Count\": 5}, {\"Date\": \"2020-02-25T00:00:00\", \"Case\": \"Active\", \"Count\": 5}, {\"Date\": \"2020-02-26T00:00:00\", \"Case\": \"Active\", \"Count\": 5}, {\"Date\": \"2020-02-27T00:00:00\", \"Case\": \"Active\", \"Count\": 7}, {\"Date\": \"2020-02-28T00:00:00\", \"Case\": \"Active\", \"Count\": 12}, {\"Date\": \"2020-02-29T00:00:00\", \"Case\": \"Active\", \"Count\": 15}, {\"Date\": \"2020-03-01T00:00:00\", \"Case\": \"Active\", \"Count\": 28}, {\"Date\": \"2020-03-02T00:00:00\", \"Case\": \"Active\", \"Count\": 32}, {\"Date\": \"2020-03-03T00:00:00\", \"Case\": \"Active\", \"Count\": 43}, {\"Date\": \"2020-03-04T00:00:00\", \"Case\": \"Active\", \"Count\": 78}, {\"Date\": \"2020-03-05T00:00:00\", \"Case\": \"Active\", \"Count\": 107}, {\"Date\": \"2020-03-06T00:00:00\", \"Case\": \"Active\", \"Count\": 154}, {\"Date\": \"2020-03-07T00:00:00\", \"Case\": \"Active\", \"Count\": 187}, {\"Date\": \"2020-03-08T00:00:00\", \"Case\": \"Active\", \"Count\": 253}, {\"Date\": \"2020-03-09T00:00:00\", \"Case\": \"Active\", \"Count\": 300}, {\"Date\": \"2020-03-10T00:00:00\", \"Case\": \"Active\", \"Count\": 359}, {\"Date\": \"2020-03-11T00:00:00\", \"Case\": \"Active\", \"Count\": 432}, {\"Date\": \"2020-03-12T00:00:00\", \"Case\": \"Active\", \"Count\": 432}, {\"Date\": \"2020-03-13T00:00:00\", \"Case\": \"Active\", \"Count\": 775}, {\"Date\": \"2020-03-14T00:00:00\", \"Case\": \"Active\", \"Count\": 1104}, {\"Date\": \"2020-03-15T00:00:00\", \"Case\": \"Active\", \"Count\": 1105}, {\"Date\": \"2020-03-16T00:00:00\", \"Case\": \"Active\", \"Count\": 1474}]}}, {\"mode\": \"vega-lite\"});\n",
       "</script>"
      ],
      "text/plain": [
       "alt.Chart(...)"
      ]
     },
     "execution_count": 18,
     "metadata": {},
     "output_type": "execute_result"
    }
   ],
   "source": [
    "cases_over_time('United Kingdom')"
   ]
  }
 ],
 "metadata": {
  "kernelspec": {
   "display_name": "fastpages",
   "language": "python",
   "name": "fastpages"
  },
  "language_info": {
   "codemirror_mode": {
    "name": "ipython",
    "version": 3
   },
   "file_extension": ".py",
   "mimetype": "text/x-python",
   "name": "python",
   "nbconvert_exporter": "python",
   "pygments_lexer": "ipython3",
   "version": "3.8.2"
  }
 },
 "nbformat": 4,
 "nbformat_minor": 4
}
